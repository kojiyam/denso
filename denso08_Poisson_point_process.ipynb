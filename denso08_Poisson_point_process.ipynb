{
  "nbformat": 4,
  "nbformat_minor": 0,
  "metadata": {
    "colab": {
      "name": "denso08_Poisson_point_process.ipynb",
      "provenance": [],
      "collapsed_sections": [],
      "authorship_tag": "ABX9TyPdH7IXPQHUoHm8YrUbMEzt",
      "include_colab_link": true
    },
    "kernelspec": {
      "name": "python3",
      "display_name": "Python 3"
    },
    "language_info": {
      "name": "python"
    }
  },
  "cells": [
    {
      "cell_type": "markdown",
      "metadata": {
        "id": "view-in-github",
        "colab_type": "text"
      },
      "source": [
        "<a href=\"https://colab.research.google.com/github/kojiyam/denso/blob/master/denso08_Poisson_point_process.ipynb\" target=\"_parent\"><img src=\"https://colab.research.google.com/assets/colab-badge.svg\" alt=\"Open In Colab\"/></a>"
      ]
    },
    {
      "cell_type": "code",
      "metadata": {
        "id": "7MomfvT9j9Q9"
      },
      "source": [
        "import numpy as np\n",
        "np.random.seed(seed=1)\n",
        "\n",
        "import matplotlib.pyplot as plt\n",
        "plt.rcParams[\"pdf.fonttype\"] = 42\n",
        "plt.rcParams[\"ps.fonttype\"] = 42\n",
        "plt.rcParams[\"font.size\"] = 12"
      ],
      "execution_count": 1,
      "outputs": []
    },
    {
      "cell_type": "markdown",
      "metadata": {
        "id": "zLcUtzhWlTRe"
      },
      "source": [
        "# 1次元ポアソン点過程\n",
        "\n",
        "密度（強度）$\\lambda$の一様ポアソン点過程の，区間$[0,T]$の実現値\n",
        "\n",
        "区間内の点の数を表す確率変数$N$は，期待値$\\lambda T$のポアソン分布に従う"
      ]
    },
    {
      "cell_type": "code",
      "metadata": {
        "colab": {
          "base_uri": "https://localhost:8080/"
        },
        "id": "qVI4WornkFN3",
        "outputId": "c19cb3dd-e550-4654-df1a-28d4772ee341"
      },
      "source": [
        "T = 10.\n",
        "Lambda1 = 1.\n",
        "N1 = np.random.poisson(lam=Lambda1*T)\n",
        "N1"
      ],
      "execution_count": 2,
      "outputs": [
        {
          "output_type": "execute_result",
          "data": {
            "text/plain": [
              "9"
            ]
          },
          "metadata": {
            "tags": []
          },
          "execution_count": 2
        }
      ]
    },
    {
      "cell_type": "markdown",
      "metadata": {
        "id": "V-CSgrAJl1Vt"
      },
      "source": [
        "$N$個の点を，一様・独立に生成"
      ]
    },
    {
      "cell_type": "code",
      "metadata": {
        "id": "pq2959bfkJod"
      },
      "source": [
        "t = np.random.rand(N1)*T"
      ],
      "execution_count": 3,
      "outputs": []
    },
    {
      "cell_type": "code",
      "metadata": {
        "colab": {
          "base_uri": "https://localhost:8080/",
          "height": 298
        },
        "id": "SCQIVfsqkOm8",
        "outputId": "d0a045a1-23ca-4a2e-d3fc-e345b17d0217"
      },
      "source": [
        "plt.xlim(0, T)\n",
        "plt.xlabel(\"$t$\")\n",
        "plt.yticks([0])\n",
        "plt.plot(t, np.zeros(N1), \"o\")"
      ],
      "execution_count": 4,
      "outputs": [
        {
          "output_type": "execute_result",
          "data": {
            "text/plain": [
              "[<matplotlib.lines.Line2D at 0x7fbb41921b90>]"
            ]
          },
          "metadata": {
            "tags": []
          },
          "execution_count": 4
        },
        {
          "output_type": "display_data",
          "data": {
            "image/png": "[encoded data removed]",
            "text/plain": [
              "<Figure size 432x288 with 1 Axes>"
            ]
          },
          "metadata": {
            "tags": [],
            "needs_background": "light"
          }
        }
      ]
    },
    {
      "cell_type": "markdown",
      "metadata": {
        "id": "J-Q7A0cinJPb"
      },
      "source": [
        "# 1次元二項点過程"
      ]
    },
    {
      "cell_type": "code",
      "metadata": {
        "id": "aXZ_Pf9VnIjr"
      },
      "source": [
        "N1B = 10\n",
        "tB = np.random.rand(N1B)*T"
      ],
      "execution_count": 5,
      "outputs": []
    },
    {
      "cell_type": "code",
      "metadata": {
        "colab": {
          "base_uri": "https://localhost:8080/",
          "height": 298
        },
        "id": "WC1GzqLipgWq",
        "outputId": "a9c756c2-59c7-4562-e41e-c328f0575805"
      },
      "source": [
        "plt.xlim(0, T)\n",
        "plt.xlabel(\"$t$\")\n",
        "plt.yticks([0])\n",
        "plt.plot(tB, np.zeros(N1B), \"o\")"
      ],
      "execution_count": 6,
      "outputs": [
        {
          "output_type": "execute_result",
          "data": {
            "text/plain": [
              "[<matplotlib.lines.Line2D at 0x7fbb41856e90>]"
            ]
          },
          "metadata": {
            "tags": []
          },
          "execution_count": 6
        },
        {
          "output_type": "display_data",
          "data": {
            "image/png": "[encoded data removed]",
            "text/plain": [
              "<Figure size 432x288 with 1 Axes>"
            ]
          },
          "metadata": {
            "tags": [],
            "needs_background": "light"
          }
        }
      ]
    },
    {
      "cell_type": "markdown",
      "metadata": {
        "id": "FI3IlUZbmCkS"
      },
      "source": [
        "# 2次元ポアソン点過程\n",
        "\n",
        "密度（強度）$\\lambda$の一様ポアソン点過程の，領域$\\{(x,y) \\mid 0 \\leq x,y \\leq W\\}$の実現値\n",
        "\n",
        "領域内の点の数を表す確率変数$N$は，期待値$\\lambda W^2$のポアソン分布に従う"
      ]
    },
    {
      "cell_type": "code",
      "metadata": {
        "colab": {
          "base_uri": "https://localhost:8080/"
        },
        "id": "nM_NyikSkRNm",
        "outputId": "fed5d663-0353-42ed-e810-914a3fe3cefc"
      },
      "source": [
        "W = 10.\n",
        "Lambda2 = 0.1\n",
        "N2 = np.random.poisson(lam=Lambda2*W*W)\n",
        "N2"
      ],
      "execution_count": 7,
      "outputs": [
        {
          "output_type": "execute_result",
          "data": {
            "text/plain": [
              "19"
            ]
          },
          "metadata": {
            "tags": []
          },
          "execution_count": 7
        }
      ]
    },
    {
      "cell_type": "code",
      "metadata": {
        "id": "qPoZ-O9ImnW3"
      },
      "source": [
        "x = np.random.rand(N2)*W\n",
        "y = np.random.rand(N2)*W"
      ],
      "execution_count": 8,
      "outputs": []
    },
    {
      "cell_type": "code",
      "metadata": {
        "colab": {
          "base_uri": "https://localhost:8080/",
          "height": 300
        },
        "id": "y9yUkaYVmzTN",
        "outputId": "03e2a508-2c9f-4693-deb6-e491be7979ec"
      },
      "source": [
        "plt.axes().set_aspect('equal',adjustable='box')\n",
        "plt.xlim(0, W)\n",
        "plt.ylim(0, W)\n",
        "plt.xlabel(\"$x$\")\n",
        "plt.ylabel(\"$y$\")\n",
        "plt.plot(x, y, \"o\")"
      ],
      "execution_count": 9,
      "outputs": [
        {
          "output_type": "execute_result",
          "data": {
            "text/plain": [
              "[<matplotlib.lines.Line2D at 0x7fbb4133e290>]"
            ]
          },
          "metadata": {
            "tags": []
          },
          "execution_count": 9
        },
        {
          "output_type": "display_data",
          "data": {
            "image/png": "[encoded data removed]",
            "text/plain": [
              "<Figure size 432x288 with 1 Axes>"
            ]
          },
          "metadata": {
            "tags": [],
            "needs_background": "light"
          }
        }
      ]
    },
    {
      "cell_type": "markdown",
      "metadata": {
        "id": "gbJ1CkM8pleQ"
      },
      "source": [
        "2次元二項点過程"
      ]
    },
    {
      "cell_type": "code",
      "metadata": {
        "id": "uup0_7kem6n1"
      },
      "source": [
        "N2B=10\n",
        "xB = np.random.rand(N2B)*W\n",
        "yB = np.random.rand(N2B)*W"
      ],
      "execution_count": 10,
      "outputs": []
    },
    {
      "cell_type": "code",
      "metadata": {
        "colab": {
          "base_uri": "https://localhost:8080/",
          "height": 300
        },
        "id": "4Pivf4RHpsVh",
        "outputId": "09001894-2805-4ff5-826a-f7cb8a584c13"
      },
      "source": [
        "plt.axes().set_aspect('equal',adjustable='box')\n",
        "plt.xlim(0, W)\n",
        "plt.ylim(0, W)\n",
        "plt.xlabel(\"$x$\")\n",
        "plt.ylabel(\"$y$\")\n",
        "plt.plot(xB, yB, \"o\")"
      ],
      "execution_count": 11,
      "outputs": [
        {
          "output_type": "execute_result",
          "data": {
            "text/plain": [
              "[<matplotlib.lines.Line2D at 0x7fbb412b2490>]"
            ]
          },
          "metadata": {
            "tags": []
          },
          "execution_count": 11
        },
        {
          "output_type": "display_data",
          "data": {
            "image/png": "[encoded data removed]",
            "text/plain": [
              "<Figure size 432x288 with 1 Axes>"
            ]
          },
          "metadata": {
            "tags": [],
            "needs_background": "light"
          }
        }
      ]
    },
    {
      "cell_type": "code",
      "metadata": {
        "id": "3VNhyKtLpvHp"
      },
      "source": [
        ""
      ],
      "execution_count": 11,
      "outputs": []
    }
  ]
}