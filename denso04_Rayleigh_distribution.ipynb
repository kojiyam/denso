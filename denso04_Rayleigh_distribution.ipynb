{
  "nbformat": 4,
  "nbformat_minor": 0,
  "metadata": {
    "colab": {
      "name": "denso04_Rayleigh_distribution.ipynb",
      "provenance": [],
      "collapsed_sections": [],
      "authorship_tag": "ABX9TyMWVXHM80opVtooRulKP5qc",
      "include_colab_link": true
    },
    "kernelspec": {
      "name": "python3",
      "display_name": "Python 3"
    },
    "language_info": {
      "name": "python"
    }
  },
  "cells": [
    {
      "cell_type": "markdown",
      "metadata": {
        "id": "view-in-github",
        "colab_type": "text"
      },
      "source": [
        "<a href=\"https://colab.research.google.com/github/kojiyam/denso/blob/master/denso04_Rayleigh_distribution.ipynb\" target=\"_parent\"><img src=\"https://colab.research.google.com/assets/colab-badge.svg\" alt=\"Open In Colab\"/></a>"
      ]
    },
    {
      "cell_type": "markdown",
      "metadata": {
        "id": "j2bd0RR84ZKH"
      },
      "source": [
        "# ガウス分布"
      ]
    },
    {
      "cell_type": "code",
      "metadata": {
        "id": "vFPIxFBo4Yg4"
      },
      "source": [
        "import numpy as np\n",
        "np.random.seed(seed=1)\n",
        "import matplotlib.pyplot as plt\n",
        "plt.rcParams[\"font.size\"] = 16"
      ],
      "execution_count": 1,
      "outputs": []
    },
    {
      "cell_type": "code",
      "metadata": {
        "id": "C8ibtnJjfmek"
      },
      "source": [
        "import scipy as sp\n",
        "from scipy import stats"
      ],
      "execution_count": 2,
      "outputs": []
    },
    {
      "cell_type": "code",
      "metadata": {
        "id": "qgeAvPP_XVv_"
      },
      "source": [
        "N = 1000"
      ],
      "execution_count": 3,
      "outputs": []
    },
    {
      "cell_type": "markdown",
      "metadata": {
        "id": "rDFwcotC44rK"
      },
      "source": [
        "$ \\mathcal{N}(\\mu, \\sigma^2)$\n",
        "\n",
        "$ X \\sim \\mathcal{N}(0,1/2) $ 確率変数$ X $は平均0，分散$1/2$の正規分布に従う\n",
        "\n",
        "$X$の実現値$x_i,\\ i=0,\\dots,N-1$を`x`とする"
      ]
    },
    {
      "cell_type": "code",
      "metadata": {
        "id": "egTSg_eV4jK4"
      },
      "source": [
        "x = np.random.normal(loc=0.0, scale=np.sqrt(1/2), size=N)"
      ],
      "execution_count": 4,
      "outputs": []
    },
    {
      "cell_type": "markdown",
      "metadata": {
        "id": "RogcA_FjX8cO"
      },
      "source": [
        "一般に確率変数の期待値$\\mathbb{E}[X]$の経験量は，$$ \\displaystyle \\frac{1}{N}\\sum_{i=0}^{N-1} x_i $$"
      ]
    },
    {
      "cell_type": "code",
      "metadata": {
        "colab": {
          "base_uri": "https://localhost:8080/"
        },
        "id": "A4bof3GsYa-W",
        "outputId": "cc99582f-320b-4db0-fbd2-224c5b577baa"
      },
      "source": [
        "np.sum(x)/N"
      ],
      "execution_count": 5,
      "outputs": [
        {
          "output_type": "execute_result",
          "data": {
            "text/plain": [
              "0.027444565087095668"
            ]
          },
          "metadata": {
            "tags": []
          },
          "execution_count": 5
        }
      ]
    },
    {
      "cell_type": "markdown",
      "metadata": {
        "id": "Ydn2U2UaXGZ7"
      },
      "source": [
        "確率$ \\mathbb{P}(X < 0) $ の経験量は $$ \\frac{1}{N}\\sum_{i=0}^{N-1} \\mathbf{1}(x_i < 0)$$"
      ]
    },
    {
      "cell_type": "code",
      "metadata": {
        "colab": {
          "base_uri": "https://localhost:8080/"
        },
        "id": "068YCb5n4yXU",
        "outputId": "efbfad68-5c5b-41e0-e458-07ef04d75c12"
      },
      "source": [
        "np.sum(x < 0)/N"
      ],
      "execution_count": 6,
      "outputs": [
        {
          "output_type": "execute_result",
          "data": {
            "text/plain": [
              "0.486"
            ]
          },
          "metadata": {
            "tags": []
          },
          "execution_count": 6
        }
      ]
    },
    {
      "cell_type": "markdown",
      "metadata": {
        "id": "d8-YBxzRexKg"
      },
      "source": [
        "cdfの経験量（ecdf: empirical cdf）"
      ]
    },
    {
      "cell_type": "code",
      "metadata": {
        "colab": {
          "base_uri": "https://localhost:8080/",
          "height": 300
        },
        "id": "fJtKSc2Teesv",
        "outputId": "f7d642cc-ab3f-4fd4-aaf6-e1985b739027"
      },
      "source": [
        "plt.xlabel(r\"$x$\")\n",
        "plt.ylabel(r\"cdf: $\\mathbb{P}(X \\leq x)$\")\n",
        "plt.xlim(-2,2)\n",
        "plt.ylim(0,1)\n",
        "plt.plot(np.sort(x), np.arange(N)/N, label=\"Empirical cdf\")"
      ],
      "execution_count": 7,
      "outputs": [
        {
          "output_type": "execute_result",
          "data": {
            "text/plain": [
              "[<matplotlib.lines.Line2D at 0x7f18175fe910>]"
            ]
          },
          "metadata": {
            "tags": []
          },
          "execution_count": 7
        },
        {
          "output_type": "display_data",
          "data": {
            "image/png": "[encoded data removed]",
            "text/plain": [
              "<Figure size 432x288 with 1 Axes>"
            ]
          },
          "metadata": {
            "tags": [],
            "needs_background": "light"
          }
        }
      ]
    },
    {
      "cell_type": "markdown",
      "metadata": {
        "id": "3PZglDizgbz7"
      },
      "source": [
        "## 理論cdfを重ねて書いてみる\n",
        "\n",
        "正規分布の理論的cdf\n",
        "$$ \\mathbb{P}(X \\leq x) = \\frac{1}{2}\\left(1+\\mathrm{erf} \\frac{x-\\mu}{\\sqrt{2s^2}} \\right)$$\n",
        "なお，今は$\\mu=0, s^2=1/2$"
      ]
    },
    {
      "cell_type": "code",
      "metadata": {
        "colab": {
          "base_uri": "https://localhost:8080/",
          "height": 300
        },
        "id": "dSOdXeRlflis",
        "outputId": "196aec0b-e74c-48aa-9732-253ad23f40d0"
      },
      "source": [
        "plt.xlabel(r\"$x$\")\n",
        "plt.ylabel(r\"cdf: $\\mathbb{P}(X \\leq x)$\")\n",
        "plt.xlim(-2,2)\n",
        "plt.ylim(0,1)\n",
        "plt.plot(np.sort(x), np.arange(N)/N, label=\"Empirical cdf\")\n",
        "\n",
        "xs = np.linspace(-2, 2, num=100)\n",
        "x_cdf = (1+sp.special.erf(xs))/2\n",
        "# x_cdf = stats.norm.cdf(x=xs, loc=0, scale=np.sqrt(1/2)) # これでもよい\n",
        "plt.plot(xs, x_cdf, label=\"Theoretical cdf\")\n",
        "plt.legend()"
      ],
      "execution_count": 8,
      "outputs": [
        {
          "output_type": "execute_result",
          "data": {
            "text/plain": [
              "<matplotlib.legend.Legend at 0x7f18175fec50>"
            ]
          },
          "metadata": {
            "tags": []
          },
          "execution_count": 8
        },
        {
          "output_type": "display_data",
          "data": {
            "image/png": "[encoded data removed]",
            "text/plain": [
              "<Figure size 432x288 with 1 Axes>"
            ]
          },
          "metadata": {
            "tags": [],
            "needs_background": "light"
          }
        }
      ]
    },
    {
      "cell_type": "markdown",
      "metadata": {
        "id": "W0Rshlk9bjo7"
      },
      "source": [
        "# 円対称複素ガウス分布\n",
        "\n",
        "$ X, Y \\sim \\mathcal{N}(0,1/2) $\n",
        "\n",
        "$ H = X + \\mathrm{j}Y \\sim \\mathcal{CN}(0,1) $"
      ]
    },
    {
      "cell_type": "code",
      "metadata": {
        "id": "Wd0d5OYZXOCP"
      },
      "source": [
        "y = np.random.normal(loc=0.0, scale=np.sqrt(1/2), size=N)"
      ],
      "execution_count": 9,
      "outputs": []
    },
    {
      "cell_type": "markdown",
      "metadata": {
        "id": "svQE_O3aQOgu"
      },
      "source": [
        "$H$の実現値は，$X,Y$の実現値$x_i,y_i$を用いて，$h_i = x_i + \\mathrm{j} y_i$とすればよい"
      ]
    },
    {
      "cell_type": "code",
      "metadata": {
        "colab": {
          "base_uri": "https://localhost:8080/",
          "height": 304
        },
        "id": "Vplu_bpTc8AX",
        "outputId": "7712d088-9432-4485-fd10-bf65d44f00c1"
      },
      "source": [
        "h = x + 1j*y\n",
        "plt.axes().set_aspect('equal')\n",
        "plt.xlim(-3,3)\n",
        "plt.ylim(-3,3)\n",
        "plt.xlabel(r\"$\\mathrm{real}[H]$\")\n",
        "plt.ylabel(r\"$\\mathrm{imag}[H]$\")\n",
        "plt.plot(np.real(h), np.imag(h), '.')"
      ],
      "execution_count": 10,
      "outputs": [
        {
          "output_type": "execute_result",
          "data": {
            "text/plain": [
              "[<matplotlib.lines.Line2D at 0x7f1816f97cd0>]"
            ]
          },
          "metadata": {
            "tags": []
          },
          "execution_count": 10
        },
        {
          "output_type": "display_data",
          "data": {
            "image/png": "[encoded data removed]",
            "text/plain": [
              "<Figure size 432x288 with 1 Axes>"
            ]
          },
          "metadata": {
            "tags": [],
            "needs_background": "light"
          }
        }
      ]
    },
    {
      "cell_type": "markdown",
      "metadata": {
        "id": "Zow3yFYid9ne"
      },
      "source": [
        "## 分散\n",
        "\n",
        "$ \\mathbb{E} [|H|^2]$"
      ]
    },
    {
      "cell_type": "code",
      "metadata": {
        "id": "X5EB2IBTZlqh",
        "colab": {
          "base_uri": "https://localhost:8080/"
        },
        "outputId": "1a4d6cca-9065-45f3-d3fd-53b90375bc92"
      },
      "source": [
        "np.sum(np.conjugate(h)*h)/N"
      ],
      "execution_count": 11,
      "outputs": [
        {
          "output_type": "execute_result",
          "data": {
            "text/plain": [
              "(1.0127996512411213+0j)"
            ]
          },
          "metadata": {
            "tags": []
          },
          "execution_count": 11
        }
      ]
    },
    {
      "cell_type": "markdown",
      "metadata": {
        "id": "Igl6OMiCCoxl"
      },
      "source": [
        "# 振幅$R=|H|$の分布はレイリー分布"
      ]
    },
    {
      "cell_type": "code",
      "metadata": {
        "id": "wb8JJusBCqGg"
      },
      "source": [
        "r = abs(h)"
      ],
      "execution_count": 12,
      "outputs": []
    },
    {
      "cell_type": "code",
      "metadata": {
        "colab": {
          "base_uri": "https://localhost:8080/",
          "height": 301
        },
        "id": "Ju_UvA3vCvyB",
        "outputId": "c37b8d8e-06e2-438f-c697-69c6b505357a"
      },
      "source": [
        "plt.xlabel(r\"$r$\")\n",
        "plt.ylabel(r\"cdf: $\\mathbb{P}(R \\leq r)$\")\n",
        "plt.xlim(0,2.5)\n",
        "plt.ylim(0,1)\n",
        "plt.plot(np.sort(r), np.arange(N)/N, label=\"Empirical cdf\")\n",
        "plt.legend()"
      ],
      "execution_count": 13,
      "outputs": [
        {
          "output_type": "execute_result",
          "data": {
            "text/plain": [
              "<matplotlib.legend.Legend at 0x7f1816fb5050>"
            ]
          },
          "metadata": {
            "tags": []
          },
          "execution_count": 13
        },
        {
          "output_type": "display_data",
          "data": {
            "image/png": "[encoded data removed]",
            "text/plain": [
              "<Figure size 432x288 with 1 Axes>"
            ]
          },
          "metadata": {
            "tags": [],
            "needs_background": "light"
          }
        }
      ]
    },
    {
      "cell_type": "markdown",
      "metadata": {
        "id": "K2mKnxw4F3Zy"
      },
      "source": [
        "レイリー分布の理論的cdf\n",
        "$$ \\mathbb{P}(R \\leq r) = 1-\\exp(-r^2 / 2s^2) $$\n",
        "なお，今は$s^2=1/2$"
      ]
    },
    {
      "cell_type": "code",
      "metadata": {
        "colab": {
          "base_uri": "https://localhost:8080/",
          "height": 301
        },
        "id": "TgHQXH5QC1Gg",
        "outputId": "87085315-04c8-4990-bbe0-fdf3d45dfaa7"
      },
      "source": [
        "plt.xlabel(r\"$r$\")\n",
        "plt.ylabel(r\"cdf: $\\mathbb{P}(R \\leq r)$\")\n",
        "plt.xlim(0,2.5)\n",
        "plt.ylim(0,1)\n",
        "plt.plot(np.sort(r), np.arange(N)/N, label=\"Empirical cdf\")\n",
        "\n",
        "xs = np.linspace(0, 2.5, num=100)\n",
        "R_cdf = 1-np.exp(-xs**2)\n",
        "plt.plot(xs, R_cdf, label=\"Theoretical cdf\")\n",
        "plt.legend()"
      ],
      "execution_count": 14,
      "outputs": [
        {
          "output_type": "execute_result",
          "data": {
            "text/plain": [
              "<matplotlib.legend.Legend at 0x7f1816ec1cd0>"
            ]
          },
          "metadata": {
            "tags": []
          },
          "execution_count": 14
        },
        {
          "output_type": "display_data",
          "data": {
            "image/png": "[encoded data removed]",
            "text/plain": [
              "<Figure size 432x288 with 1 Axes>"
            ]
          },
          "metadata": {
            "tags": [],
            "needs_background": "light"
          }
        }
      ]
    },
    {
      "cell_type": "code",
      "metadata": {
        "id": "uG1tTfcRE4bM"
      },
      "source": [
        ""
      ],
      "execution_count": 14,
      "outputs": []
    },
    {
      "cell_type": "markdown",
      "metadata": {
        "id": "OgkpYAgWMASQ"
      },
      "source": [
        "# 電力$G=R^2$の分布は指数分布\n"
      ]
    },
    {
      "cell_type": "code",
      "metadata": {
        "id": "OC5WOmwhMIPa"
      },
      "source": [
        "g = r**2"
      ],
      "execution_count": 15,
      "outputs": []
    },
    {
      "cell_type": "code",
      "metadata": {
        "colab": {
          "base_uri": "https://localhost:8080/",
          "height": 302
        },
        "id": "5q83JarTMJPb",
        "outputId": "b5d47b02-c758-4467-dbf3-07c896e6dea1"
      },
      "source": [
        "plt.xlabel(r\"$g$\")\n",
        "plt.ylabel(r\"cdf: $\\mathbb{P}(G \\leq g)$\")\n",
        "plt.xlim(0,5)\n",
        "plt.ylim(0,1)\n",
        "plt.plot(np.sort(g), np.arange(N)/N, label=\"Empirical cdf\")"
      ],
      "execution_count": 16,
      "outputs": [
        {
          "output_type": "execute_result",
          "data": {
            "text/plain": [
              "[<matplotlib.lines.Line2D at 0x7f1816e59450>]"
            ]
          },
          "metadata": {
            "tags": []
          },
          "execution_count": 16
        },
        {
          "output_type": "display_data",
          "data": {
            "image/png": "[encoded data removed]",
            "text/plain": [
              "<Figure size 432x288 with 1 Axes>"
            ]
          },
          "metadata": {
            "tags": [],
            "needs_background": "light"
          }
        }
      ]
    },
    {
      "cell_type": "markdown",
      "metadata": {
        "id": "E4nSK4MwMkud"
      },
      "source": [
        "指数分布の理論的cdf\n",
        "$$ \\mathbb{P}(G \\leq g) = 1-\\exp(-g / 2s^2) $$\n",
        "なお，今は$s^2=1/2$"
      ]
    },
    {
      "cell_type": "code",
      "metadata": {
        "colab": {
          "base_uri": "https://localhost:8080/",
          "height": 302
        },
        "id": "tAah0RQaMTpy",
        "outputId": "5c5eb141-e4c9-4a02-be86-055cbbe47ced"
      },
      "source": [
        "plt.xlabel(r\"$g$\")\n",
        "plt.ylabel(r\"cdf: $\\mathbb{P}(G \\leq g)$\")\n",
        "plt.xlim(0,5)\n",
        "plt.ylim(0,1)\n",
        "plt.plot(np.sort(g), np.arange(N)/N, label=\"Empirical cdf\")\n",
        "\n",
        "xs = np.linspace(0, 5, num=100)\n",
        "G_cdf = 1-np.exp(-xs)\n",
        "plt.plot(xs, G_cdf, label=\"Theoretical cdf\")\n",
        "plt.legend(loc='lower right')"
      ],
      "execution_count": 17,
      "outputs": [
        {
          "output_type": "execute_result",
          "data": {
            "text/plain": [
              "<matplotlib.legend.Legend at 0x7f1816e59790>"
            ]
          },
          "metadata": {
            "tags": []
          },
          "execution_count": 17
        },
        {
          "output_type": "display_data",
          "data": {
            "image/png": "[encoded data removed]",
            "text/plain": [
              "<Figure size 432x288 with 1 Axes>"
            ]
          },
          "metadata": {
            "tags": [],
            "needs_background": "light"
          }
        }
      ]
    }
  ]
}