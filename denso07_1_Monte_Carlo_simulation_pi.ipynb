{
  "nbformat": 4,
  "nbformat_minor": 0,
  "metadata": {
    "colab": {
      "name": "denso07_1_Monte_Carlo_simulation_pi.ipynb",
      "provenance": [],
      "collapsed_sections": [],
      "authorship_tag": "ABX9TyNWcdL8eOW3HyX3+smAOgX5",
      "include_colab_link": true
    },
    "kernelspec": {
      "name": "python3",
      "display_name": "Python 3"
    }
  },
  "cells": [
    {
      "cell_type": "markdown",
      "metadata": {
        "id": "view-in-github",
        "colab_type": "text"
      },
      "source": [
        "<a href=\"https://colab.research.google.com/github/kojiyam/denso/blob/master/denso07_1_Monte_Carlo_simulation_pi.ipynb\" target=\"_parent\"><img src=\"https://colab.research.google.com/assets/colab-badge.svg\" alt=\"Open In Colab\"/></a>"
      ]
    },
    {
      "cell_type": "markdown",
      "metadata": {
        "id": "LDLan7AtjJzF"
      },
      "source": [
        "# 円周率 $ \\pi $ のモンテカルロ法による評価"
      ]
    },
    {
      "cell_type": "code",
      "metadata": {
        "id": "ksQw5Kxmf-Ij"
      },
      "source": [
        "# 一般的なライブラリ・モジュール\n",
        "import numpy as np\n",
        "np.random.seed(seed=1) # 擬似乱数のseed．研究では，再現性のため，擬似乱数のseedは固定すべき\n",
        "import matplotlib.pyplot as plt\n",
        "import time"
      ],
      "execution_count": 1,
      "outputs": []
    },
    {
      "cell_type": "code",
      "metadata": {
        "id": "WmaXVX0egNrF"
      },
      "source": [
        "# パラメータ\n",
        "# サンプル数 M=10^8 だとNの計算に22sかかる 10^4, 10^6くらいが無難\n",
        "M = np.int(1e4)\n",
        "M_fig = 200 # 画像出力の際の点の数"
      ],
      "execution_count": 27,
      "outputs": []
    },
    {
      "cell_type": "code",
      "metadata": {
        "id": "1jxM9kbUgHl9"
      },
      "source": [
        "# numpy.random.rand(M) 一様分布[0,1)に従う乱数M個\n",
        "x = np.random.rand(M)\n",
        "y = np.random.rand(M)"
      ],
      "execution_count": 29,
      "outputs": []
    },
    {
      "cell_type": "markdown",
      "metadata": {
        "id": "vWBEz24ll9m-"
      },
      "source": [
        "$X, Y$ は，互いに独立な一様分布[0,1)に従う確率変数\n",
        "\n",
        "$ (x_i, y_i), i=0,\\dots,M-1 $ は$(X,Y)$の実現値（数学では$i=1,\\dots,M$と書くのが普通だが，Pythonに合わせた）\n",
        "\n",
        "$ \\text{x[i]}=x_i$\n",
        "\n",
        "$ \\text{y[i]}=y_i$"
      ]
    },
    {
      "cell_type": "markdown",
      "metadata": {
        "id": "LZlgURyEjcVg"
      },
      "source": [
        "上記の設定の元で次式が成り立つ\n",
        "\n",
        "$\\displaystyle \\mathbb{P} (X^2+Y^2 \\leq 1) = \\frac{\\pi}{4}$\n",
        "\n",
        "この左辺をモンテカルロ法で評価"
      ]
    },
    {
      "cell_type": "code",
      "metadata": {
        "id": "2sHz0jBRd4Ku",
        "colab": {
          "base_uri": "https://localhost:8080/",
          "height": 350
        },
        "outputId": "9a6cbc2d-6660-4273-898d-69567f60b5e7"
      },
      "source": [
        "# 200点のみ図示\n",
        "plt.xlabel(\"x\")\n",
        "plt.ylabel(\"y\")\n",
        "plt.axes().set_aspect('equal',adjustable='box')\n",
        "plt.scatter(x[0:M_fig], y[0:M_fig])"
      ],
      "execution_count": 30,
      "outputs": [
        {
          "output_type": "stream",
          "text": [
            "/usr/local/lib/python3.7/dist-packages/ipykernel_launcher.py:4: MatplotlibDeprecationWarning: Adding an axes using the same arguments as a previous axes currently reuses the earlier instance.  In a future version, a new instance will always be created and returned.  Meanwhile, this warning can be suppressed, and the future behavior ensured, by passing a unique label to each axes instance.\n",
            "  after removing the cwd from sys.path.\n"
          ],
          "name": "stderr"
        },
        {
          "output_type": "execute_result",
          "data": {
            "text/plain": [
              "<matplotlib.collections.PathCollection at 0x7f065b7f60d0>"
            ]
          },
          "metadata": {
            "tags": []
          },
          "execution_count": 30
        },
        {
          "output_type": "display_data",
          "data": {
            "image/png": "[encoded data removed]",
            "text/plain": [
              "<Figure size 432x288 with 1 Axes>"
            ]
          },
          "metadata": {
            "tags": [],
            "needs_background": "light"
          }
        }
      ]
    },
    {
      "cell_type": "code",
      "metadata": {
        "id": "FdUxtERMgTck",
        "colab": {
          "base_uri": "https://localhost:8080/"
        },
        "outputId": "3475818c-f0b8-4b43-a6b2-ee8c5306e423"
      },
      "source": [
        "start = time.time() # 時間表示\n",
        "tdata = ( x**2 + y**2 <= 1 ).astype(np.int)\n",
        "N = sum( tdata )\n",
        "elapsed_time = time.time() - start # 時間表示\n",
        "print (\"elapsed_time:{0}\".format(elapsed_time) + \"[sec]\") # 時間表示"
      ],
      "execution_count": 36,
      "outputs": [
        {
          "output_type": "stream",
          "text": [
            "elapsed_time:0.004477262496948242[sec]\n"
          ],
          "name": "stdout"
        }
      ]
    },
    {
      "cell_type": "markdown",
      "metadata": {
        "id": "j09nOpWcATtV"
      },
      "source": [
        "$ \\text{tdata[i]} := \\mathbf{1}( {x_i}^2 + {y_i}^2 \\leq 1 ) $\n",
        "\n",
        "$ \\displaystyle N := \\sum_{i=1}^M \\mathbf{1}({x_i}^2 + {y_i}^2 \\leq 1 )$"
      ]
    },
    {
      "cell_type": "code",
      "metadata": {
        "id": "dVb0SlEyeLlB"
      },
      "source": [
        "# 図示のための準備\n",
        "\n",
        "ndata0 = np.where( tdata==0 )\n",
        "ndata1 = np.where( tdata==1 )"
      ],
      "execution_count": 37,
      "outputs": []
    },
    {
      "cell_type": "markdown",
      "metadata": {
        "id": "M0fHQO-1_MRw"
      },
      "source": [
        "$ \\text{ndata0} = \\{i:{x_i}^2+{y_i}^2 \\not\\leq 1\\} = \\{ i: \\mathbf{1}({x_i}^2+{y_i}^2 \\leq 1) = 0 \\}$\n",
        "\n",
        "$ \\text{ndata1} = \\{i:{x_i}^2+{y_i}^2 \\leq 1\\} = \\{ i: \\mathbf{1}({x_i}^2+{y_i}^2 \\leq 1) = 1 \\}$"
      ]
    },
    {
      "cell_type": "code",
      "metadata": {
        "id": "ZcAIexGheUnp",
        "colab": {
          "base_uri": "https://localhost:8080/",
          "height": 350
        },
        "outputId": "80a94d26-64a4-44fc-b00f-3771455c4cae"
      },
      "source": [
        "ndata0_fig = np.where(tdata[0:200]==0)\n",
        "ndata1_fig = np.where(tdata[0:200]==1)\n",
        "xtics = np.linspace(0,1,100)\n",
        "plt.xlabel(r\"$x$\")\n",
        "plt.ylabel(r\"$y$\")\n",
        "plt.axes().set_aspect('equal',adjustable='box')\n",
        "\n",
        "plt.plot(xtics,np.sqrt(1-xtics**2))\n",
        "plt.scatter(x[ndata0_fig], y[ndata0_fig], marker=\"x\")\n",
        "plt.scatter(x[ndata1_fig], y[ndata1_fig] )"
      ],
      "execution_count": 38,
      "outputs": [
        {
          "output_type": "stream",
          "text": [
            "/usr/local/lib/python3.7/dist-packages/ipykernel_launcher.py:6: MatplotlibDeprecationWarning: Adding an axes using the same arguments as a previous axes currently reuses the earlier instance.  In a future version, a new instance will always be created and returned.  Meanwhile, this warning can be suppressed, and the future behavior ensured, by passing a unique label to each axes instance.\n",
            "  \n"
          ],
          "name": "stderr"
        },
        {
          "output_type": "execute_result",
          "data": {
            "text/plain": [
              "<matplotlib.collections.PathCollection at 0x7f065b6251d0>"
            ]
          },
          "metadata": {
            "tags": []
          },
          "execution_count": 38
        },
        {
          "output_type": "display_data",
          "data": {
            "image/png": "[encoded data removed]",
            "text/plain": [
              "<Figure size 432x288 with 1 Axes>"
            ]
          },
          "metadata": {
            "tags": [],
            "needs_background": "light"
          }
        }
      ]
    },
    {
      "cell_type": "code",
      "metadata": {
        "id": "e5Ph9YgCgZIc",
        "colab": {
          "base_uri": "https://localhost:8080/"
        },
        "outputId": "b00fb984-070c-4103-8df9-1a07977a371f"
      },
      "source": [
        "print(4*N/M)"
      ],
      "execution_count": 39,
      "outputs": [
        {
          "output_type": "stream",
          "text": [
            "3.1476\n"
          ],
          "name": "stdout"
        }
      ]
    },
    {
      "cell_type": "markdown",
      "metadata": {
        "id": "NI6IcQk9kkqC"
      },
      "source": [
        "$ \\displaystyle \\lim_{M \\to \\infty} \\frac{N}{M} = \\mathbb{P}(X^2+Y^2 \\leq 1) = \\frac{\\pi}{4}$"
      ]
    },
    {
      "cell_type": "markdown",
      "metadata": {
        "id": "RlLsdOiugH3V"
      },
      "source": [
        "[参考文献]\n",
        "\n",
        "【Python】処理にかかる時間を計測して表示 https://qiita.com/fantm21/items/3dc7fbf4e935311488bc"
      ]
    },
    {
      "cell_type": "code",
      "metadata": {
        "id": "iAxeQgL4-fIM"
      },
      "source": [
        ""
      ],
      "execution_count": 9,
      "outputs": []
    }
  ]
}