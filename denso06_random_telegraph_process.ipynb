{
  "nbformat": 4,
  "nbformat_minor": 0,
  "metadata": {
    "colab": {
      "name": "denso06_random_telegraph_process.ipynb",
      "provenance": [],
      "collapsed_sections": [],
      "authorship_tag": "ABX9TyOmIHUCQkOdJkwqrfyqe19E",
      "include_colab_link": true
    },
    "kernelspec": {
      "name": "python3",
      "display_name": "Python 3"
    },
    "language_info": {
      "name": "python"
    }
  },
  "cells": [
    {
      "cell_type": "markdown",
      "metadata": {
        "id": "view-in-github",
        "colab_type": "text"
      },
      "source": [
        "<a href=\"https://colab.research.google.com/github/kojiyam/denso/blob/master/denso06_random_telegraph_process.ipynb\" target=\"_parent\"><img src=\"https://colab.research.google.com/assets/colab-badge.svg\" alt=\"Open In Colab\"/></a>"
      ]
    },
    {
      "cell_type": "code",
      "metadata": {
        "id": "Ico_A0iC-7Wx"
      },
      "source": [
        "import numpy as np\n",
        "np.random.seed(seed=5)\n",
        "import matplotlib.pyplot as plt\n",
        "plt.rcParams[\"pdf.fonttype\"] = 42\n",
        "plt.rcParams[\"ps.fonttype\"] = 42\n",
        "plt.rcParams[\"font.size\"] = 12"
      ],
      "execution_count": 1,
      "outputs": []
    },
    {
      "cell_type": "code",
      "metadata": {
        "id": "kiu1dzn3nRtw"
      },
      "source": [
        "#from scipy.stats import binom\n",
        "#from scipy.stats import poisson"
      ],
      "execution_count": 2,
      "outputs": []
    },
    {
      "cell_type": "markdown",
      "metadata": {
        "id": "c8FvgcObAGWX"
      },
      "source": [
        "まず図を書く\n"
      ]
    },
    {
      "cell_type": "code",
      "metadata": {
        "colab": {
          "base_uri": "https://localhost:8080/"
        },
        "id": "E8HO4bHW_bON",
        "outputId": "8e982b9b-5ad6-4a61-b9dc-a92c3594c0c1"
      },
      "source": [
        "T = 10.\n",
        "Lambda = 1.\n",
        "N = np.random.poisson(lam=Lambda*T)\n",
        "N"
      ],
      "execution_count": 3,
      "outputs": [
        {
          "output_type": "execute_result",
          "data": {
            "text/plain": [
              "10"
            ]
          },
          "metadata": {
            "tags": []
          },
          "execution_count": 3
        }
      ]
    },
    {
      "cell_type": "code",
      "metadata": {
        "id": "HAdATorCnT8E"
      },
      "source": [
        "# zero-crossing timing\n",
        "t = np.sort(np.random.rand(N)*T)"
      ],
      "execution_count": 4,
      "outputs": []
    },
    {
      "cell_type": "code",
      "metadata": {
        "colab": {
          "base_uri": "https://localhost:8080/"
        },
        "id": "lEow4e984D6_",
        "outputId": "405da011-837b-4124-f1b4-110810921776"
      },
      "source": [
        "#int(np.ceil(N/2))\n",
        "int(np.floor(N/2))"
      ],
      "execution_count": 5,
      "outputs": [
        {
          "output_type": "execute_result",
          "data": {
            "text/plain": [
              "5"
            ]
          },
          "metadata": {
            "tags": []
          },
          "execution_count": 5
        }
      ]
    },
    {
      "cell_type": "code",
      "metadata": {
        "id": "sYVFS-w96TSX"
      },
      "source": [
        "if (N%2) == 0:\n",
        "  y = np.concatenate([np.array([1]) , np.tile( np.array([1,-1,-1,1]), int(np.floor(N/2)) ) , np.array([1])])\n",
        "else:\n",
        "  y = np.concatenate([np.array([1]) , np.tile( np.array([1,-1,-1,1]), int(np.floor(N/2)) ) , np.array([1,-1,-1])])"
      ],
      "execution_count": 6,
      "outputs": []
    },
    {
      "cell_type": "code",
      "metadata": {
        "id": "vX2-kYJA29_-"
      },
      "source": [
        "#y = np.concatenate([np.array([1]) , np.tile( np.array([1,-1,-1,1]), int(np.ceil(N/2)) ) , np.array([1])])"
      ],
      "execution_count": 7,
      "outputs": []
    },
    {
      "cell_type": "code",
      "metadata": {
        "id": "iJ3Ze9kL3RSk"
      },
      "source": [
        "t2 = (np.vstack([t,t]).T).flatten()\n",
        "t2 = np.concatenate([np.array([0]), t2, np.array([T])])"
      ],
      "execution_count": 8,
      "outputs": []
    },
    {
      "cell_type": "code",
      "metadata": {
        "colab": {
          "base_uri": "https://localhost:8080/",
          "height": 281
        },
        "id": "R4-x6_-O5JqR",
        "outputId": "f1f094bb-c255-4d42-d2ab-92927c819226"
      },
      "source": [
        "plt.yticks([-1,0,1])\n",
        "plt.xlabel(r'$t$')\n",
        "plt.plot(t2, y)\n",
        "plt.savefig(\"denso06_telegraph.pdf\", transparent=True, bbox_inches='tight')"
      ],
      "execution_count": 9,
      "outputs": [
        {
          "output_type": "display_data",
          "data": {
            "image/png": "[encoded data removed]",
            "text/plain": [
              "<Figure size 432x288 with 1 Axes>"
            ]
          },
          "metadata": {
            "tags": [],
            "needs_background": "light"
          }
        }
      ]
    },
    {
      "cell_type": "code",
      "metadata": {
        "id": "WbXijRXU5mW5"
      },
      "source": [
        ""
      ],
      "execution_count": 9,
      "outputs": []
    }
  ]
}