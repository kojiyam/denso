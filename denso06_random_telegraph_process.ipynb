{
  "nbformat": 4,
  "nbformat_minor": 0,
  "metadata": {
    "colab": {
      "name": "denso06_random_telegraph_process.ipynb",
      "provenance": [],
      "collapsed_sections": [],
      "authorship_tag": "ABX9TyMNYOlI2ijp7p1Gg1ab9Bf9",
      "include_colab_link": true
    },
    "kernelspec": {
      "name": "python3",
      "display_name": "Python 3"
    },
    "language_info": {
      "name": "python"
    }
  },
  "cells": [
    {
      "cell_type": "markdown",
      "metadata": {
        "id": "view-in-github",
        "colab_type": "text"
      },
      "source": [
        "<a href=\"https://colab.research.google.com/github/kojiyam/denso/blob/master/denso06_random_telegraph_process.ipynb\" target=\"_parent\"><img src=\"https://colab.research.google.com/assets/colab-badge.svg\" alt=\"Open In Colab\"/></a>"
      ]
    },
    {
      "cell_type": "code",
      "metadata": {
        "id": "Ico_A0iC-7Wx"
      },
      "source": [
        "import numpy as np\n",
        "np.random.seed(seed=6)\n",
        "\n",
        "import matplotlib.pyplot as plt\n",
        "plt.rcParams[\"pdf.fonttype\"] = 42\n",
        "plt.rcParams[\"ps.fonttype\"] = 42\n",
        "plt.rcParams[\"font.size\"] = 12"
      ],
      "execution_count": 1,
      "outputs": []
    },
    {
      "cell_type": "code",
      "metadata": {
        "id": "kiu1dzn3nRtw"
      },
      "source": [
        "#from scipy.stats import binom\n",
        "#from scipy.stats import poisson"
      ],
      "execution_count": 2,
      "outputs": []
    },
    {
      "cell_type": "markdown",
      "metadata": {
        "id": "c8FvgcObAGWX"
      },
      "source": [
        "まず図を書く\n"
      ]
    },
    {
      "cell_type": "code",
      "metadata": {
        "colab": {
          "base_uri": "https://localhost:8080/"
        },
        "id": "E8HO4bHW_bON",
        "outputId": "df79837a-a22c-42d6-c2df-30c3c1456f91"
      },
      "source": [
        "T = 10.\n",
        "Lambda = 1.\n",
        "N = np.random.poisson(lam=Lambda*T)\n",
        "N"
      ],
      "execution_count": 3,
      "outputs": [
        {
          "output_type": "execute_result",
          "data": {
            "text/plain": [
              "15"
            ]
          },
          "metadata": {
            "tags": []
          },
          "execution_count": 3
        }
      ]
    },
    {
      "cell_type": "code",
      "metadata": {
        "id": "HAdATorCnT8E"
      },
      "source": [
        "# zero-crossing timing\n",
        "t = np.sort(np.random.rand(N)*T)"
      ],
      "execution_count": 4,
      "outputs": []
    },
    {
      "cell_type": "code",
      "metadata": {
        "colab": {
          "base_uri": "https://localhost:8080/"
        },
        "id": "lEow4e984D6_",
        "outputId": "b62af62e-ea47-4cd8-ce94-32ecf3694e76"
      },
      "source": [
        "#int(np.ceil(N/2))\n",
        "int(np.floor(N/2))"
      ],
      "execution_count": 5,
      "outputs": [
        {
          "output_type": "execute_result",
          "data": {
            "text/plain": [
              "7"
            ]
          },
          "metadata": {
            "tags": []
          },
          "execution_count": 5
        }
      ]
    },
    {
      "cell_type": "code",
      "metadata": {
        "id": "sYVFS-w96TSX"
      },
      "source": [
        "if (N%2) == 0:\n",
        "  y = np.concatenate([np.array([1]) , np.tile( np.array([1,-1,-1,1]), int(np.floor(N/2)) ) , np.array([1])])\n",
        "else:\n",
        "  y = np.concatenate([np.array([1]) , np.tile( np.array([1,-1,-1,1]), int(np.floor(N/2)) ) , np.array([1,-1,-1])])"
      ],
      "execution_count": 6,
      "outputs": []
    },
    {
      "cell_type": "code",
      "metadata": {
        "id": "vX2-kYJA29_-"
      },
      "source": [
        "#y = np.concatenate([np.array([1]) , np.tile( np.array([1,-1,-1,1]), int(np.ceil(N/2)) ) , np.array([1])])"
      ],
      "execution_count": 7,
      "outputs": []
    },
    {
      "cell_type": "code",
      "metadata": {
        "id": "iJ3Ze9kL3RSk"
      },
      "source": [
        "t2 = (np.vstack([t,t]).T).flatten()\n",
        "t2 = np.concatenate([np.array([0]), t2, np.array([T])])"
      ],
      "execution_count": 8,
      "outputs": []
    },
    {
      "cell_type": "code",
      "metadata": {
        "colab": {
          "base_uri": "https://localhost:8080/",
          "height": 281
        },
        "id": "R4-x6_-O5JqR",
        "outputId": "30ad5d1d-84ed-4041-ca33-3a673a4bc0af"
      },
      "source": [
        "plt.yticks([-1,0,1])\n",
        "plt.xlabel(r'$t$')\n",
        "plt.plot([0,10],[0,0], color=\"black\")\n",
        "plt.plot(t2, y, color=\"tab:blue\")\n",
        "plt.plot(t, np.zeros_like(t), \"o\", color=\"tab:orange\")\n",
        "plt.savefig(\"denso06_telegraph.pdf\", transparent=True, bbox_inches='tight')"
      ],
      "execution_count": 9,
      "outputs": [
        {
          "output_type": "display_data",
          "data": {
            "image/png": "[encoded data removed]",
            "text/plain": [
              "<Figure size 432x288 with 1 Axes>"
            ]
          },
          "metadata": {
            "tags": [],
            "needs_background": "light"
          }
        }
      ]
    },
    {
      "cell_type": "code",
      "metadata": {
        "id": "WbXijRXU5mW5"
      },
      "source": [
        ""
      ],
      "execution_count": 9,
      "outputs": []
    },
    {
      "cell_type": "code",
      "metadata": {
        "id": "Gs2yPzm5SYc9"
      },
      "source": [
        ""
      ],
      "execution_count": 9,
      "outputs": []
    }
  ]
}