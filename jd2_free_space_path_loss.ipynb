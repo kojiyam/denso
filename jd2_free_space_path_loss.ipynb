{
  "nbformat": 4,
  "nbformat_minor": 0,
  "metadata": {
    "colab": {
      "name": "jd2-free_space_path_loss.ipynb",
      "provenance": [],
      "collapsed_sections": [],
      "authorship_tag": "ABX9TyMGhQexpwy64h+mihvV93p1",
      "include_colab_link": true
    },
    "kernelspec": {
      "name": "python3",
      "display_name": "Python 3"
    }
  },
  "cells": [
    {
      "cell_type": "markdown",
      "metadata": {
        "id": "view-in-github",
        "colab_type": "text"
      },
      "source": [
        "<a href=\"https://colab.research.google.com/github/kojiyam/denso/blob/master/jd2_free_space_path_loss.ipynb\" target=\"_parent\"><img src=\"https://colab.research.google.com/assets/colab-badge.svg\" alt=\"Open In Colab\"/></a>"
      ]
    },
    {
      "cell_type": "markdown",
      "metadata": {
        "id": "_SDFebBe4mKx"
      },
      "source": [
        "# 自由空間伝搬損"
      ]
    },
    {
      "cell_type": "code",
      "metadata": {
        "id": "pWbm9ejRcGtP"
      },
      "source": [
        "import numpy as np\n",
        "\n",
        "import matplotlib.pyplot as plt\n",
        "plt.rcParams[\"font.size\"] = 14"
      ],
      "execution_count": 1,
      "outputs": []
    },
    {
      "cell_type": "code",
      "metadata": {
        "id": "TeQ8yg0qcWDB"
      },
      "source": [
        "FREQ_G = 1. # GHz\n",
        "FREQ = 1e9 * FREQ_G # Hz\n",
        "LAMBDA = (3e8/FREQ) # 波長"
      ],
      "execution_count": 2,
      "outputs": []
    },
    {
      "cell_type": "code",
      "metadata": {
        "id": "U7VawiCzctEx"
      },
      "source": [
        "# 10^0-10^5 の横軸\n",
        "r = np.logspace(0, 5, num=10, endpoint=True, base=10)"
      ],
      "execution_count": 3,
      "outputs": []
    },
    {
      "cell_type": "code",
      "metadata": {
        "id": "22iXpdjJcODc"
      },
      "source": [
        "pl1 = 32.4 + 20 * np.log10(r) + 20 * np.log10(FREQ_G)\n",
        "pl2 = 10 * np.log10( (4*np.pi*r/LAMBDA)**2 )"
      ],
      "execution_count": 4,
      "outputs": []
    },
    {
      "cell_type": "code",
      "metadata": {
        "id": "sXKw-Lz9ccW3",
        "colab": {
          "base_uri": "https://localhost:8080/",
          "height": 303
        },
        "outputId": "80778e64-bc1d-41dd-922d-577168683da6"
      },
      "source": [
        "plt.plot(r, pl1, marker='o') # 教育上あえて点を打っていますが，連続になる場合は点は不要\n",
        "plt.plot(r, pl2 )\n",
        "plt.xscale('log')\n",
        "plt.xlabel('Distance $r$ (m)')\n",
        "plt.ylabel('Path loss (dB)')"
      ],
      "execution_count": 5,
      "outputs": [
        {
          "output_type": "execute_result",
          "data": {
            "text/plain": [
              "Text(0, 0.5, 'Path loss (dB)')"
            ]
          },
          "metadata": {},
          "execution_count": 5
        },
        {
          "output_type": "display_data",
          "data": {
            "image/png": "[encoded data removed]",
            "text/plain": [
              "<Figure size 432x288 with 1 Axes>"
            ]
          },
          "metadata": {
            "needs_background": "light"
          }
        }
      ]
    },
    {
      "cell_type": "markdown",
      "metadata": {
        "id": "nnQVA-KnfP-g"
      },
      "source": [
        "$ L_\\mathrm{s} = (4\\pi r/\\lambda)^2$ とその対数表記 $(L_\\mathrm{s})_\\mathrm{dB}$ が一致していることが分かる\n"
      ]
    }
  ]
}