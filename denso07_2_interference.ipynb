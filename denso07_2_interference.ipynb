{
  "nbformat": 4,
  "nbformat_minor": 0,
  "metadata": {
    "colab": {
      "name": "denso07_2_interference.ipynb",
      "provenance": [],
      "collapsed_sections": [],
      "authorship_tag": "ABX9TyO2FtLrxXAmoPDasy0OpP4B",
      "include_colab_link": true
    },
    "kernelspec": {
      "name": "python3",
      "display_name": "Python 3"
    }
  },
  "cells": [
    {
      "cell_type": "markdown",
      "metadata": {
        "id": "view-in-github",
        "colab_type": "text"
      },
      "source": [
        "<a href=\"https://colab.research.google.com/github/kojiyam/denso/blob/master/denso07_2_interference.ipynb\" target=\"_parent\"><img src=\"https://colab.research.google.com/assets/colab-badge.svg\" alt=\"Open In Colab\"/></a>"
      ]
    },
    {
      "cell_type": "markdown",
      "metadata": {
        "id": "gNDXjVItusDQ"
      },
      "source": [
        "# 送信局・干渉・単一のシミュレーション\n",
        "\n",
        "[Q] 計算機シミュレーションを研究でしている？\n",
        "\n",
        "[Q] している場合，それはモンテカルロシミュレーション？ Yes/No/分からない"
      ]
    },
    {
      "cell_type": "code",
      "metadata": {
        "id": "1qyiP2jGcJ6C"
      },
      "source": [
        "# 一般的なライブラリ・モジュール\n",
        "import numpy as np\n",
        "np.random.seed(seed=1) # 擬似乱数のseed．研究のシミュレーションでは，再現性のため，擬似乱数のseedは固定すべき\n",
        "from scipy import special # erfc mathにもerfcはあるが，numpy arrayを受けつけない\n",
        "import matplotlib.pyplot as plt\n",
        "plt.rcParams[\"font.size\"] = 16\n",
        "import math"
      ],
      "execution_count": 1,
      "outputs": []
    },
    {
      "cell_type": "code",
      "metadata": {
        "id": "Ea5Zwbx6PkFS"
      },
      "source": [
        "# パラメータ\n",
        "BS_n = 40 # 基地局 (base station) の数\n",
        "LENGTH = 1000 # システムエリアは，LENGTH (m) x LENGTH (m) の正方形とする．なお，原点を中心とする\n",
        "ALPHA = 4. # pathloss exponent"
      ],
      "execution_count": 2,
      "outputs": []
    },
    {
      "cell_type": "code",
      "metadata": {
        "id": "TmfGBwjHOfdp"
      },
      "source": [
        "# 乱数生成\n",
        "BS_x = np.random.rand(BS_n)*LENGTH-LENGTH/2 # BSのx座標\n",
        "BS_y = np.random.rand(BS_n)*LENGTH-LENGTH/2 # BSのy座標"
      ],
      "execution_count": 3,
      "outputs": []
    },
    {
      "cell_type": "markdown",
      "metadata": {
        "id": "_9RGtqAgI8cN"
      },
      "source": [
        "$ \\Phi_{\\mathrm{b}} = \\{(\\text{BS_x},\\text{BS_y})\\} = \\{ x_0, x_1, \\dots\\}$"
      ]
    },
    {
      "cell_type": "code",
      "metadata": {
        "id": "uXJ2TjrKPhTC",
        "colab": {
          "base_uri": "https://localhost:8080/",
          "height": 296
        },
        "outputId": "77fc66cb-a557-41e0-d2ce-b6f92616292f"
      },
      "source": [
        "# 基地局の位置\n",
        "plt.axes().set_aspect('equal',adjustable='box')\n",
        "plt.xlim(-LENGTH/2,LENGTH/2)\n",
        "plt.ylim(-LENGTH/2,LENGTH/2)\n",
        "plt.xlabel(r\"$x$\")\n",
        "plt.ylabel(r\"$y$\")\n",
        "plt.scatter(BS_x,BS_y)\n",
        "plt.scatter(0,0) # 原点．ユーザ"
      ],
      "execution_count": 4,
      "outputs": [
        {
          "output_type": "execute_result",
          "data": {
            "text/plain": [
              "<matplotlib.collections.PathCollection at 0x7fe50f87cb90>"
            ]
          },
          "metadata": {
            "tags": []
          },
          "execution_count": 4
        },
        {
          "output_type": "display_data",
          "data": {
            "image/png": "[encoded data removed]",
            "text/plain": [
              "<Figure size 432x288 with 1 Axes>"
            ]
          },
          "metadata": {
            "tags": [],
            "needs_background": "light"
          }
        }
      ]
    },
    {
      "cell_type": "markdown",
      "metadata": {
        "id": "cLW6zs6tHnDr"
      },
      "source": [
        "$ \\displaystyle I = \\sum_{ x \\in \\Phi_\\mathrm{b} } \\lVert x \\rVert^{-\\alpha} $\n"
      ]
    },
    {
      "cell_type": "code",
      "metadata": {
        "id": "dT7VhZT9V29D",
        "colab": {
          "base_uri": "https://localhost:8080/"
        },
        "outputId": "ca69ef9e-fa3e-4c40-aaba-f338b3e01e56"
      },
      "source": [
        "# 干渉電力\n",
        "I = np.sum( (BS_x**2+BS_y**2)**(-ALPHA/2) ) \n",
        "print (I)"
      ],
      "execution_count": 5,
      "outputs": [
        {
          "output_type": "stream",
          "text": [
            "9.655792777677073e-09\n"
          ],
          "name": "stdout"
        }
      ]
    },
    {
      "cell_type": "markdown",
      "metadata": {
        "id": "Dtqd-JhxuSEp"
      },
      "source": [
        "# 2. モンテカルロシミュレーション"
      ]
    },
    {
      "cell_type": "code",
      "metadata": {
        "id": "QMArND4JZJBy"
      },
      "source": [
        "LOOP_n = 1000 # 値を変えてecdfを描いてみるとよい\n",
        "isPPP = False\n",
        "#isPPP = True # こちらにすると，BSをシステムエリア内に平均BS_n局のPPPにする"
      ],
      "execution_count": 6,
      "outputs": []
    },
    {
      "cell_type": "code",
      "metadata": {
        "id": "resnlejoV027",
        "colab": {
          "base_uri": "https://localhost:8080/"
        },
        "outputId": "e2482487-9d60-4b43-9d58-166a3dedd5ab"
      },
      "source": [
        "interference_list = list()\n",
        "for i in range (LOOP_n):\n",
        "  if isPPP == True:\n",
        "    BS_np = np.random.poisson(BS_n)\n",
        "  else:\n",
        "    BS_np = BS_n\n",
        "  \n",
        "  # 以下，単一の場合と同じ\n",
        "  BS_x = np.random.rand(BS_np)*LENGTH-LENGTH/2\n",
        "  BS_y = np.random.rand(BS_np)*LENGTH-LENGTH/2\n",
        "  I = np.sum((BS_x**2+BS_y**2)**(-ALPHA/2))\n",
        "  # 以上，単一の場合と同じ\n",
        "\n",
        "  interference_list.append(I)\n",
        "\n",
        "  # 繰り返し数が多い場合に，経過表示\n",
        "  if (i%10000==0):\n",
        "    print(i)\n",
        "\n",
        "print(10*np.log10(np.average(interference_list)))"
      ],
      "execution_count": 7,
      "outputs": [
        {
          "output_type": "stream",
          "text": [
            "0\n",
            "-22.74947715984258\n"
          ],
          "name": "stdout"
        }
      ]
    },
    {
      "cell_type": "markdown",
      "metadata": {
        "id": "WgoPOHZKIbM9"
      },
      "source": [
        "別途説明するように，$M\\to\\infty$で発散する値なので，この値に何の意味もない"
      ]
    },
    {
      "cell_type": "markdown",
      "metadata": {
        "id": "oJYlJNkuMFXL"
      },
      "source": [
        "干渉の最大値を1に制約した上で期待値を取る\n",
        "（もうちょっと簡単に書けないですかね．）"
      ]
    },
    {
      "cell_type": "code",
      "metadata": {
        "id": "PXUUWdtqKZsk",
        "colab": {
          "base_uri": "https://localhost:8080/"
        },
        "outputId": "b9d006a6-fa55-4a48-be94-5d2a56f44484"
      },
      "source": [
        "10*np.log10(np.average(np.amin(np.array([interference_list,np.ones_like(interference_list)]),axis=0)))"
      ],
      "execution_count": 8,
      "outputs": [
        {
          "output_type": "execute_result",
          "data": {
            "text/plain": [
              "-29.91900126933968"
            ]
          },
          "metadata": {
            "tags": []
          },
          "execution_count": 8
        }
      ]
    },
    {
      "cell_type": "markdown",
      "metadata": {
        "id": "gU8YhPSSMy73"
      },
      "source": [
        "（厳密にはPPPの場合）BSの密度を$\\lambda$とすると<br>\n",
        "$\\displaystyle \\mathbb{E}[I] = \\lambda \\pi + \\frac{2\\lambda \\pi}{\\alpha - 2}$"
      ]
    },
    {
      "cell_type": "code",
      "metadata": {
        "id": "_J6K965rH-V4",
        "colab": {
          "base_uri": "https://localhost:8080/"
        },
        "outputId": "727f7f0a-9b93-403e-8bd6-250c4bb34258"
      },
      "source": [
        "density = BS_n / LENGTH**2\n",
        "print(10*np.log10(density*math.pi + 2*density*math.pi/(ALPHA-2)))"
      ],
      "execution_count": 9,
      "outputs": [
        {
          "output_type": "stream",
          "text": [
            "-35.99760140313923\n"
          ],
          "name": "stdout"
        }
      ]
    },
    {
      "cell_type": "code",
      "metadata": {
        "id": "i81qYTDoVk-7"
      },
      "source": [
        "# ecdfを描くためにソート\n",
        "interference_list.sort()"
      ],
      "execution_count": 10,
      "outputs": []
    },
    {
      "cell_type": "code",
      "metadata": {
        "id": "31fSIQTLVFxj",
        "colab": {
          "base_uri": "https://localhost:8080/",
          "height": 300
        },
        "outputId": "1079e235-f9e4-47fb-b4a0-06c4e1a79e37"
      },
      "source": [
        "# ecdfを描く\n",
        "plt.xlim(-90,-30)\n",
        "plt.ylim(0,1)\n",
        "plt.xlabel(\"SIR (dB)\")\n",
        "plt.ylabel(\"cdf\")\n",
        "plt.plot(10*np.log10(interference_list),np.array(range(LOOP_n))/LOOP_n)"
      ],
      "execution_count": 11,
      "outputs": [
        {
          "output_type": "execute_result",
          "data": {
            "text/plain": [
              "[<matplotlib.lines.Line2D at 0x7fe50f2ff3d0>]"
            ]
          },
          "metadata": {
            "tags": []
          },
          "execution_count": 11
        },
        {
          "output_type": "display_data",
          "data": {
            "image/png": "[encoded data removed]",
            "text/plain": [
              "<Figure size 432x288 with 1 Axes>"
            ]
          },
          "metadata": {
            "tags": [],
            "needs_background": "light"
          }
        }
      ]
    },
    {
      "cell_type": "markdown",
      "metadata": {
        "id": "n7h1z0b6fATW"
      },
      "source": [
        "*   バグがないことの確認？\n",
        "*   繰り返し数は何回？\n",
        "*   平均値や劣化率？"
      ]
    },
    {
      "cell_type": "markdown",
      "metadata": {
        "id": "juf6x_iDP974"
      },
      "source": [
        "参考\n",
        "NumPy, randomで様々な種類の乱数の配列を生成\n",
        "https://note.nkmk.me/python-numpy-random/"
      ]
    },
    {
      "cell_type": "markdown",
      "metadata": {
        "id": "GJUtV5yMOsSM"
      },
      "source": [
        "# 3. 確率幾何解析\n",
        "\n",
        "$ \\displaystyle \\mathbb{P} ( I \\leq x) = \\mathrm{erfc} \\sqrt{ \\pi^3 \\lambda^2 / 4x} $\n",
        "\n",
        "[Haenggi2012, (5.6)]のpdfを積分したもの．講義では導出は説明しない"
      ]
    },
    {
      "cell_type": "code",
      "metadata": {
        "id": "-8LfnetPfECS",
        "colab": {
          "base_uri": "https://localhost:8080/",
          "height": 283
        },
        "outputId": "5be19911-f3f5-48fc-d464-aec68f383a2f"
      },
      "source": [
        "\n",
        "x = np.arange(-90,-30,0.2)\n",
        "x_lin = 10**(x/10)\n",
        "#y = 1-1/(1+np.sqrt(x_lin)*np.arctan(np.sqrt(x_lin))) # これが確率幾何解析の結果．他は上と同じ\n",
        "y = special.erfc(np.sqrt(math.pi**3 * density**2 / (4*x_lin)))\n",
        "fig = plt.figure()\n",
        "ax = fig.add_subplot(111)\n",
        "ax.set_xlim(-90,-30)\n",
        "ax.set_ylim(0,1)\n",
        "ax.set_xlabel(\"θ (dB)\") # 手抜きで日本語フォントを使っています\n",
        "ax.set_ylabel(\"P(SIR ≦ θ)\") # 手抜きで日本語フォントを使っています\n",
        "ax.plot(10*np.log10(interference_list),np.array(range(LOOP_n))/LOOP_n)\n",
        "ax.plot(x,y)\n",
        "plt.show()"
      ],
      "execution_count": 12,
      "outputs": [
        {
          "output_type": "display_data",
          "data": {
            "image/png": "[encoded data removed]",
            "text/plain": [
              "<Figure size 432x288 with 1 Axes>"
            ]
          },
          "metadata": {
            "tags": [],
            "needs_background": "light"
          }
        }
      ]
    },
    {
      "cell_type": "code",
      "metadata": {
        "id": "kpgJ9vKU4ySn"
      },
      "source": [
        ""
      ],
      "execution_count": 12,
      "outputs": []
    }
  ]
}