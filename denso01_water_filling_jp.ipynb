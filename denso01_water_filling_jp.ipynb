{
  "nbformat": 4,
  "nbformat_minor": 0,
  "metadata": {
    "colab": {
      "name": "denso01_water_filling_jp.ipynb",
      "provenance": [],
      "collapsed_sections": [],
      "authorship_tag": "ABX9TyN+PLIUK1VLbXoFzn20gkMw",
      "include_colab_link": true
    },
    "kernelspec": {
      "name": "python3",
      "display_name": "Python 3"
    }
  },
  "cells": [
    {
      "cell_type": "markdown",
      "metadata": {
        "id": "view-in-github",
        "colab_type": "text"
      },
      "source": [
        "<a href=\"https://colab.research.google.com/github/kojiyam/denso/blob/master/denso01_water_filling_jp.ipynb\" target=\"_parent\"><img src=\"https://colab.research.google.com/assets/colab-badge.svg\" alt=\"Open In Colab\"/></a>"
      ]
    },
    {
      "cell_type": "code",
      "metadata": {
        "id": "7ob-jRBWeVEn"
      },
      "source": [
        "import numpy as np\n",
        "np.random.seed(1)\n",
        "np.set_printoptions(precision=2, floatmode='maxprec')\n",
        "import matplotlib.pyplot as plt\n",
        "#plt.style.use('dark_background')  # For dark mode\n",
        "plt.rcParams[\"font.size\"] = 16   # Font size in figures"
      ],
      "execution_count": 1,
      "outputs": []
    },
    {
      "cell_type": "markdown",
      "metadata": {
        "id": "kL5NV8PQtLfP"
      },
      "source": [
        "# Parameters"
      ]
    },
    {
      "cell_type": "code",
      "metadata": {
        "id": "UDSr5jeueWt-"
      },
      "source": [
        "G = np.sort(np.array([0.1, 0.25, 0.5, 0.75])) # Channel gain\n",
        "C = len(G) # Number of channels"
      ],
      "execution_count": 2,
      "outputs": []
    },
    {
      "cell_type": "markdown",
      "metadata": {
        "id": "q1TXLrR9fg8e"
      },
      "source": [
        "$ G_c / { \\sigma_c}^2 $を `G` としている\n",
        "\n",
        "`G` は昇順に並べてある"
      ]
    },
    {
      "cell_type": "code",
      "metadata": {
        "id": "_GYgm5JhfNFK"
      },
      "source": [
        "def water_pour(P):\n",
        "  for i in range(C):\n",
        "    g = G[i:]\n",
        "    lmd = (C - i)/(P + np.sum(1/g))\n",
        "    p = 1/lmd - 1/g\n",
        "    if np.all(p > 0):\n",
        "      p = np.concatenate([np.zeros(i), p])\n",
        "      return p\n",
        "  return np.zeros(i + 1)"
      ],
      "execution_count": 3,
      "outputs": []
    },
    {
      "cell_type": "markdown",
      "metadata": {
        "id": "i_u2_x_SkhlM"
      },
      "source": [
        "`G` を昇順に並べてあるため，送信電力$p_c$は$c$の大きいところ（$G$の大きいところ）では正の値，小さいところでは0になる可能性がある\n",
        "\n",
        "$ p_i > 0 $, $ p_{i-1} = 0 $とすると次式が成り立つ．（i=0の場合は...）\n",
        "\n",
        "$ \\displaystyle \\sum_{c=i}^{C-1} \\left( p_c^\\star + \\frac{\\sigma_c^2}{G_c} \\right) = \\frac{C-i}{ \\lambda^\\star } $"
      ]
    },
    {
      "cell_type": "code",
      "metadata": {
        "id": "K7wY2Fjutao_",
        "colab": {
          "base_uri": "https://localhost:8080/"
        },
        "outputId": "c870b7fe-d526-465a-9a62-439245a91f0b"
      },
      "source": [
        "print(water_pour(2))"
      ],
      "execution_count": 4,
      "outputs": [
        {
          "output_type": "stream",
          "text": [
            "[0.   0.   0.67 1.33]\n"
          ],
          "name": "stdout"
        }
      ]
    },
    {
      "cell_type": "code",
      "metadata": {
        "id": "0EIwO_OkecYU"
      },
      "source": [
        "P = np.arange(0, 30, 0.25)\n",
        "ps = [] # 最適解\n",
        "for pp in P:\n",
        "  p = water_pour(pp)\n",
        "  ps.append(p)\n",
        "ps = np.array(ps)"
      ],
      "execution_count": 5,
      "outputs": []
    },
    {
      "cell_type": "code",
      "metadata": {
        "colab": {
          "base_uri": "https://localhost:8080/"
        },
        "id": "p6byfrSFED5c",
        "outputId": "20836bc7-b512-4e8b-9b3a-ddd05a2ada37"
      },
      "source": [
        "print(ps.shape)"
      ],
      "execution_count": 6,
      "outputs": [
        {
          "output_type": "stream",
          "text": [
            "(120, 4)\n"
          ],
          "name": "stdout"
        }
      ]
    },
    {
      "cell_type": "code",
      "metadata": {
        "id": "0I2BvhXSuVig",
        "colab": {
          "base_uri": "https://localhost:8080/",
          "height": 300
        },
        "outputId": "2b1a9f5c-9f2b-47d5-f1c9-6145cddc7817"
      },
      "source": [
        "for i in range(C):\n",
        "  plt.plot(P, ps[:,i], label=G[i])\n",
        "plt.xlabel(r'$P$: Total power')\n",
        "plt.ylabel(r'$p_c\\star$')\n",
        "plt.legend()"
      ],
      "execution_count": 16,
      "outputs": [
        {
          "output_type": "execute_result",
          "data": {
            "text/plain": [
              "<matplotlib.legend.Legend at 0x7ff2cc220cd0>"
            ]
          },
          "metadata": {
            "tags": []
          },
          "execution_count": 16
        },
        {
          "output_type": "display_data",
          "data": {
            "image/png": "[encoded data removed]",
            "text/plain": [
              "<Figure size 432x288 with 1 Axes>"
            ]
          },
          "metadata": {
            "tags": [],
            "needs_background": "light"
          }
        }
      ]
    },
    {
      "cell_type": "markdown",
      "metadata": {
        "id": "o2YGt7Q1efDI"
      },
      "source": [
        "## 参考\n",
        "2020 Mainly by Masanori Ueno. Shunnosuke Kotera"
      ]
    },
    {
      "cell_type": "code",
      "metadata": {
        "id": "XhfLCioTemtw"
      },
      "source": [
        ""
      ],
      "execution_count": null,
      "outputs": []
    }
  ]
}