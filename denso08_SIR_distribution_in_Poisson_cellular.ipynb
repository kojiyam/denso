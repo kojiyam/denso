{
  "nbformat": 4,
  "nbformat_minor": 0,
  "metadata": {
    "colab": {
      "name": "denso08_SIR_distribution_in_Poisson_cellular.ipynb",
      "provenance": [],
      "collapsed_sections": [],
      "authorship_tag": "ABX9TyNCXTDMhYbIdz8LpwV8/j5L",
      "include_colab_link": true
    },
    "kernelspec": {
      "name": "python3",
      "display_name": "Python 3"
    }
  },
  "cells": [
    {
      "cell_type": "markdown",
      "metadata": {
        "id": "view-in-github",
        "colab_type": "text"
      },
      "source": [
        "<a href=\"https://colab.research.google.com/github/kojiyam/denso/blob/master/denso08_SIR_distribution_in_Poisson_cellular.ipynb\" target=\"_parent\"><img src=\"https://colab.research.google.com/assets/colab-badge.svg\" alt=\"Open In Colab\"/></a>"
      ]
    },
    {
      "cell_type": "markdown",
      "metadata": {
        "id": "gNDXjVItusDQ"
      },
      "source": [
        "# 1. セルラネットワーク・ダウンリンク・評価尺度SIR・単一のシミュレーション"
      ]
    },
    {
      "cell_type": "code",
      "metadata": {
        "id": "1qyiP2jGcJ6C"
      },
      "source": [
        "# 一般的なライブラリ・モジュール\n",
        "import numpy as np\n",
        "import matplotlib.pyplot as plt\n",
        "plt.rcParams[\"font.size\"] = 16"
      ],
      "execution_count": 1,
      "outputs": []
    },
    {
      "cell_type": "code",
      "metadata": {
        "id": "UC36yefiT4n5"
      },
      "source": [
        "# 擬似乱数のseed．研究では，再現性のため，擬似乱数のseedは固定すべき\n",
        "np.random.seed(seed=1)"
      ],
      "execution_count": 2,
      "outputs": []
    },
    {
      "cell_type": "code",
      "metadata": {
        "id": "Ea5Zwbx6PkFS"
      },
      "source": [
        "# パラメータ\n",
        "BS_n = 40 # 基地局 (base station) の数\n",
        "LENGTH = 1000 # システムエリアは，LENGTH (m) x LENGTH (m) の正方形とする．なお，原点を中心とする\n",
        "ALPHA = 4. # pathloss exponent"
      ],
      "execution_count": 3,
      "outputs": []
    },
    {
      "cell_type": "code",
      "metadata": {
        "id": "TmfGBwjHOfdp"
      },
      "source": [
        "# 乱数生成\n",
        "# numpy.random.rand(d) 一様分布[0,1)に従う乱数d個\n",
        "# numpy.random.exponential(scale=1.0, size=None) スケールパラメータscaleの指数分布に従う乱数size個\n",
        "BS_x = np.random.rand(BS_n)*LENGTH-LENGTH/2 # BSのx座標\n",
        "BS_y = np.random.rand(BS_n)*LENGTH-LENGTH/2 # BSのy座標\n",
        "BS_h = np.random.exponential(scale=1.,size=BS_n) # BSと原点とのフェージング利得\n",
        "BS_sorted_index = np.argsort(BS_x**2+BS_y**2) # 原点からの距離の順でソートした際の元のインデックス\n",
        "# BS_sorted_index[0]が原点（ユーザ）から最近傍基地局．今回は所望局\n",
        "# BS_sorted_index[1:BS_n]が干渉局"
      ],
      "execution_count": 4,
      "outputs": []
    },
    {
      "cell_type": "markdown",
      "metadata": {
        "id": "_9RGtqAgI8cN"
      },
      "source": [
        "$ \\Phi_{\\mathrm{b}} = \\{(\\text{BS_x},\\text{BS_y})\\} = \\{ x_0, x_1, \\dots\\}$\n",
        "\n",
        "$ \\displaystyle b_o = \\arg\\min_{ x \\in \\Phi_\\mathrm{b}} \\lVert x - o \\rVert$\n",
        "\n",
        "$ b_o = $ ( BS_x[BS_sorted_index[0]], BS_y[BS_sorted_index[0]] )\n",
        "\n",
        "$ \\Phi_{\\mathrm{b}} \\setminus b_o = $ { ( BS_x[BS_sorted_index[1:BS_n]], BS_y[BS_sorted_index[1:BS_n]] ) }"
      ]
    },
    {
      "cell_type": "code",
      "metadata": {
        "id": "uXJ2TjrKPhTC",
        "colab": {
          "base_uri": "https://localhost:8080/",
          "height": 296
        },
        "outputId": "7488cdeb-be75-474e-fdfa-4713b3adb15f"
      },
      "source": [
        "# 基地局の位置\n",
        "plt.axes().set_aspect('equal',adjustable='box')\n",
        "plt.xlim(-LENGTH/2,LENGTH/2)\n",
        "plt.ylim(-LENGTH/2,LENGTH/2)\n",
        "plt.xlabel(\"$x$\")\n",
        "plt.ylabel(\"$y$\")\n",
        "plt.scatter(BS_x[BS_sorted_index[0]],BS_y[BS_sorted_index[0]]) # 所望局\n",
        "plt.scatter(BS_x[BS_sorted_index[1:BS_n]],BS_y[BS_sorted_index[1:BS_n]]) # 干渉局\n",
        "plt.scatter(0,0) # 原点．ユーザ"
      ],
      "execution_count": 22,
      "outputs": [
        {
          "output_type": "execute_result",
          "data": {
            "text/plain": [
              "<matplotlib.collections.PathCollection at 0x7fe83d6d2fd0>"
            ]
          },
          "metadata": {
            "tags": []
          },
          "execution_count": 22
        },
        {
          "output_type": "display_data",
          "data": {
            "image/png": "[encoded data removed]",
            "text/plain": [
              "<Figure size 432x288 with 1 Axes>"
            ]
          },
          "metadata": {
            "tags": [],
            "needs_background": "light"
          }
        }
      ]
    },
    {
      "cell_type": "markdown",
      "metadata": {
        "id": "cLW6zs6tHnDr"
      },
      "source": [
        " $ S = h_{b_o} \\lVert b_o \\rVert^{-\\alpha} $\n",
        "\n",
        " $ \\displaystyle I = \\sum_{ x \\in \\Phi_\\mathrm{b} \\setminus b_o } h_x \\lVert x \\rVert^{-\\alpha} $"
      ]
    },
    {
      "cell_type": "code",
      "metadata": {
        "id": "dT7VhZT9V29D",
        "colab": {
          "base_uri": "https://localhost:8080/"
        },
        "outputId": "772d88b9-ac6e-45f0-babf-9240968878a9"
      },
      "source": [
        "# 所望信号電力\n",
        "\n",
        "S = BS_h[BS_sorted_index[0]] * (BS_x[BS_sorted_index[0]]**2+BS_y[BS_sorted_index[0]]**2)**(-ALPHA/2) # 所望信号電力\n",
        "\n",
        "# 干渉電力\n",
        "I = np.sum( BS_h[BS_sorted_index[1:BS_n]] * (BS_x[BS_sorted_index[1:BS_n]]**2+BS_y[BS_sorted_index[1:BS_n]]**2)**(-ALPHA/2) ) # 干渉電力\n",
        "\n",
        "print (S/I)"
      ],
      "execution_count": 6,
      "outputs": [
        {
          "output_type": "stream",
          "text": [
            "4.082209885227988\n"
          ],
          "name": "stdout"
        }
      ]
    },
    {
      "cell_type": "markdown",
      "metadata": {
        "id": "Dtqd-JhxuSEp"
      },
      "source": [
        "# 2. モンテカルロシミュレーション"
      ]
    },
    {
      "cell_type": "code",
      "metadata": {
        "id": "QMArND4JZJBy"
      },
      "source": [
        "LOOP_n = 1000 # 値を変えてecdfを描いてみるとよい\n",
        "#isPPP = False\n",
        "isPPP = True # こちらにすると，BSをシステムエリア内に平均BS_n局のPPPにする"
      ],
      "execution_count": 7,
      "outputs": []
    },
    {
      "cell_type": "code",
      "metadata": {
        "id": "resnlejoV027",
        "colab": {
          "base_uri": "https://localhost:8080/"
        },
        "outputId": "10635b42-46d7-4990-843e-f9be98fbe4eb"
      },
      "source": [
        "SIR_list = list()\n",
        "for i in range (LOOP_n):\n",
        "  if isPPP == True:\n",
        "    BS_np = np.random.poisson(BS_n)\n",
        "  else:\n",
        "    BS_np = BS_n\n",
        "  \n",
        "  # 以下，単一の場合と同じ\n",
        "  BS_x = np.random.rand(BS_np)*LENGTH-LENGTH/2\n",
        "  BS_y = np.random.rand(BS_np)*LENGTH-LENGTH/2\n",
        "  BS_h = np.random.exponential(1,BS_np)\n",
        "  BS_sorted_index = np.argsort(BS_x**2+BS_y**2)\n",
        "  S = (BS_x[BS_sorted_index[0]]**2+BS_y[BS_sorted_index[0]]**2)**(-ALPHA/2) * BS_h[BS_sorted_index[0]]\n",
        "  I = np.sum(BS_h[BS_sorted_index[1:BS_np]] * (BS_x[BS_sorted_index[1:BS_np]]**2+BS_y[BS_sorted_index[1:BS_np]]**2)**(-ALPHA/2))\n",
        "  # 以上，単一の場合と同じ\n",
        "\n",
        "  # dB値で保存\n",
        "  SIR_list.append(10*np.log10(S/I))\n",
        "\n",
        "  # 繰り返し数が多い場合に，経過表示\n",
        "  if (i%1000==0):\n",
        "    print(i)"
      ],
      "execution_count": 8,
      "outputs": [
        {
          "output_type": "stream",
          "text": [
            "0\n"
          ],
          "name": "stdout"
        }
      ]
    },
    {
      "cell_type": "code",
      "metadata": {
        "id": "i81qYTDoVk-7"
      },
      "source": [
        "# ecdfを描くためにソート\n",
        "SIR_list.sort()"
      ],
      "execution_count": 9,
      "outputs": []
    },
    {
      "cell_type": "code",
      "metadata": {
        "id": "31fSIQTLVFxj",
        "colab": {
          "base_uri": "https://localhost:8080/",
          "height": 303
        },
        "outputId": "228ae5bf-c9b7-4fee-8885-1bbb76ea87ff"
      },
      "source": [
        "# ecdfを描く\n",
        "plt.xlim(-20,30)\n",
        "plt.ylim(0,1)\n",
        "plt.xlabel(r\"$\\mathit{SIR}$ (dB)\")\n",
        "plt.ylabel(r\"$\\mathbb{P}(\\mathit{SIR} \\leq \\theta)$\")\n",
        "plt.plot(SIR_list,np.array(range(LOOP_n))/LOOP_n)"
      ],
      "execution_count": 20,
      "outputs": [
        {
          "output_type": "execute_result",
          "data": {
            "text/plain": [
              "[<matplotlib.lines.Line2D at 0x7fe83d80b6d0>]"
            ]
          },
          "metadata": {
            "tags": []
          },
          "execution_count": 20
        },
        {
          "output_type": "display_data",
          "data": {
            "image/png": "[encoded data removed]",
            "text/plain": [
              "<Figure size 432x288 with 1 Axes>"
            ]
          },
          "metadata": {
            "tags": [],
            "needs_background": "light"
          }
        }
      ]
    },
    {
      "cell_type": "markdown",
      "metadata": {
        "id": "GJUtV5yMOsSM"
      },
      "source": [
        "# 3. 確率幾何解析\n",
        "\n",
        "$ \\displaystyle \\mathbb{P} ( \\mathit{SIR} \\leq \\theta) = 1- \\frac{1}{1+\\sqrt{\\theta} \\arctan \\sqrt{\\theta}} $\n",
        "\n",
        "この式の導出を，確率幾何を知らない無線の専門家に教えようとすると，せめて1時間ほしい"
      ]
    },
    {
      "cell_type": "code",
      "metadata": {
        "id": "-8LfnetPfECS",
        "colab": {
          "base_uri": "https://localhost:8080/",
          "height": 303
        },
        "outputId": "f56197b8-26aa-4584-b0cf-702a503a1b57"
      },
      "source": [
        "x = np.arange(-20,30,0.2)\n",
        "x_lin = 10**(x/10)\n",
        "y = 1-1/(1+np.sqrt(x_lin)*np.arctan(np.sqrt(x_lin))) # これが確率幾何解析の結果．他は上と同じ\n",
        "\n",
        "plt.xlim(-20,30)\n",
        "plt.ylim(0,1)\n",
        "plt.xlabel(r\"$\\theta$ (dB)\")\n",
        "plt.ylabel(r\"$\\mathbb{P}(\\mathit{SIR} \\leq \\theta)$\")\n",
        "plt.plot(SIR_list,np.array(range(LOOP_n))/LOOP_n)\n",
        "plt.plot(x,y)"
      ],
      "execution_count": 17,
      "outputs": [
        {
          "output_type": "execute_result",
          "data": {
            "text/plain": [
              "[<matplotlib.lines.Line2D at 0x7fe83d066950>]"
            ]
          },
          "metadata": {
            "tags": []
          },
          "execution_count": 17
        },
        {
          "output_type": "display_data",
          "data": {
            "image/png": "[encoded data removed]",
            "text/plain": [
              "<Figure size 432x288 with 1 Axes>"
            ]
          },
          "metadata": {
            "tags": [],
            "needs_background": "light"
          }
        }
      ]
    },
    {
      "cell_type": "code",
      "metadata": {
        "id": "DXyaWJirmfqb"
      },
      "source": [
        ""
      ],
      "execution_count": 11,
      "outputs": []
    }
  ]
}