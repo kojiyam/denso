{
  "nbformat": 4,
  "nbformat_minor": 0,
  "metadata": {
    "colab": {
      "name": "denso11_BoE_throughput.ipynb",
      "provenance": [],
      "collapsed_sections": [],
      "authorship_tag": "ABX9TyOrGIAH8HePqnOA2zTOFc+Y",
      "include_colab_link": true
    },
    "kernelspec": {
      "name": "python3",
      "display_name": "Python 3"
    },
    "language_info": {
      "name": "python"
    }
  },
  "cells": [
    {
      "cell_type": "markdown",
      "metadata": {
        "id": "view-in-github",
        "colab_type": "text"
      },
      "source": [
        "<a href=\"https://colab.research.google.com/github/kojiyam/denso/blob/master/denso11_BoE_throughput.ipynb\" target=\"_parent\"><img src=\"https://colab.research.google.com/assets/colab-badge.svg\" alt=\"Open In Colab\"/></a>"
      ]
    },
    {
      "cell_type": "code",
      "metadata": {
        "colab": {
          "base_uri": "https://localhost:8080/"
        },
        "id": "NQZXHdu_0eRy",
        "outputId": "eda1d6dd-b03b-428b-f237-9b783ffd60b4"
      },
      "source": [
        "!pip install cairocffi python-igraph"
      ],
      "execution_count": 17,
      "outputs": [
        {
          "output_type": "stream",
          "text": [
            "Requirement already satisfied: cairocffi in /usr/local/lib/python3.7/dist-packages (1.2.0)\n",
            "Requirement already satisfied: python-igraph in /usr/local/lib/python3.7/dist-packages (0.9.6)\n",
            "Requirement already satisfied: cffi>=1.1.0 in /usr/local/lib/python3.7/dist-packages (from cairocffi) (1.14.6)\n",
            "Requirement already satisfied: texttable>=1.6.2 in /usr/local/lib/python3.7/dist-packages (from python-igraph) (1.6.4)\n",
            "Requirement already satisfied: pycparser in /usr/local/lib/python3.7/dist-packages (from cffi>=1.1.0->cairocffi) (2.20)\n"
          ],
          "name": "stdout"
        }
      ]
    },
    {
      "cell_type": "code",
      "metadata": {
        "id": "yjOgkJURvj-q"
      },
      "source": [
        "import numpy as np\n",
        "np.random.seed(seed=4)\n",
        "\n",
        "import matplotlib.pyplot as plt\n",
        "plt.rcParams[\"pdf.fonttype\"] = 42\n",
        "plt.rcParams[\"ps.fonttype\"] = 42\n",
        "plt.rcParams[\"font.size\"] = 12"
      ],
      "execution_count": 18,
      "outputs": []
    },
    {
      "cell_type": "code",
      "metadata": {
        "id": "HYLUW8kI0i50"
      },
      "source": [
        "import igraph as ig"
      ],
      "execution_count": 19,
      "outputs": []
    },
    {
      "cell_type": "code",
      "metadata": {
        "id": "Q5lt1LVZwmqV"
      },
      "source": [
        "from scipy.spatial.distance import pdist\n",
        "from scipy.spatial.distance import squareform"
      ],
      "execution_count": 20,
      "outputs": []
    },
    {
      "cell_type": "code",
      "metadata": {
        "id": "0gB5oM7mvtUs"
      },
      "source": [
        "W = 800\n",
        "Lambda = 2e-5\n",
        "RADIUS = 200"
      ],
      "execution_count": 21,
      "outputs": []
    },
    {
      "cell_type": "code",
      "metadata": {
        "id": "UlOHEk16wEnl"
      },
      "source": [
        "N = np.random.poisson(lam=Lambda*W*W)\n",
        "X = np.random.random(size=(N,2))*W"
      ],
      "execution_count": 22,
      "outputs": []
    },
    {
      "cell_type": "code",
      "metadata": {
        "id": "_E9U1UZYAftl"
      },
      "source": [
        "# 恣意的なもの．ここをコメントアウトすると，ランダムなもの\n",
        "N = 9\n",
        "X = np.array([[100,100], [250,100], [400,100], [550,100], [700,100], [80,350], \n",
        "              [220,350], [150,500], [150,650]])"
      ],
      "execution_count": 34,
      "outputs": []
    },
    {
      "cell_type": "code",
      "metadata": {
        "colab": {
          "base_uri": "https://localhost:8080/",
          "height": 307
        },
        "id": "NPdEG0mLwK4t",
        "outputId": "9c5df3ef-2e53-496b-f423-b0a0446958b1"
      },
      "source": [
        "plt.axes().set_aspect('equal',adjustable='box')\n",
        "plt.xlim(0, W)\n",
        "plt.ylim(0, W)\n",
        "plt.xlabel(\"$x$\")\n",
        "plt.ylabel(\"$y$\")\n",
        "plt.plot(X[:,0], X[:,1], \"o\")"
      ],
      "execution_count": 35,
      "outputs": [
        {
          "output_type": "execute_result",
          "data": {
            "text/plain": [
              "[<matplotlib.lines.Line2D at 0x7f0c6a09c890>]"
            ]
          },
          "metadata": {
            "tags": []
          },
          "execution_count": 35
        },
        {
          "output_type": "display_data",
          "data": {
            "image/png": "[encoded data removed]",
            "text/plain": [
              "<Figure size 432x288 with 1 Axes>"
            ]
          },
          "metadata": {
            "tags": [],
            "needs_background": "light"
          }
        }
      ]
    },
    {
      "cell_type": "code",
      "metadata": {
        "id": "Tn7wX9oMwMvF"
      },
      "source": [
        "D = squareform(pdist(X, 'euclidean'))"
      ],
      "execution_count": 36,
      "outputs": []
    },
    {
      "cell_type": "code",
      "metadata": {
        "id": "Hx-9K174wsNe"
      },
      "source": [
        "adjacency_matrix = (D<RADIUS)"
      ],
      "execution_count": 37,
      "outputs": []
    },
    {
      "cell_type": "code",
      "metadata": {
        "id": "dyEriG3gzrCd"
      },
      "source": [
        "for i in range(N):\n",
        "  adjacency_matrix[i,i] = False"
      ],
      "execution_count": 38,
      "outputs": []
    },
    {
      "cell_type": "code",
      "metadata": {
        "id": "7-b1pArrzSR0"
      },
      "source": [
        "adjacency_graph = ig.Graph.Adjacency(adjacency_matrix, mode=\"undirected\")"
      ],
      "execution_count": 39,
      "outputs": []
    },
    {
      "cell_type": "code",
      "metadata": {
        "id": "6Y1gSuRe1wBL"
      },
      "source": [
        "MISs = ig.Graph.largest_independent_vertex_sets(adjacency_graph)"
      ],
      "execution_count": 40,
      "outputs": []
    },
    {
      "cell_type": "code",
      "metadata": {
        "colab": {
          "base_uri": "https://localhost:8080/"
        },
        "id": "Rhn3TN4t2qEr",
        "outputId": "45209839-8063-42cb-ec50-4f30e76e696e"
      },
      "source": [
        "print(MISs)\n",
        "print(len(MISs))\n",
        "1 in MISs[0]"
      ],
      "execution_count": 41,
      "outputs": [
        {
          "output_type": "stream",
          "text": [
            "[(0, 2, 4, 5, 8), (0, 2, 4, 6, 8)]\n",
            "2\n"
          ],
          "name": "stdout"
        },
        {
          "output_type": "execute_result",
          "data": {
            "text/plain": [
              "False"
            ]
          },
          "metadata": {
            "tags": []
          },
          "execution_count": 41
        }
      ]
    },
    {
      "cell_type": "code",
      "metadata": {
        "id": "HVOYUUxg2SOh"
      },
      "source": [
        "ni = np.zeros(N)\n",
        "for i in range(N):\n",
        "  N_MIS = 0\n",
        "  for j in range(len(MISs)):\n",
        "    N_MIS = N_MIS + int(i in MISs[j])\n",
        "  ni[i] = N_MIS"
      ],
      "execution_count": 42,
      "outputs": []
    },
    {
      "cell_type": "markdown",
      "metadata": {
        "id": "6hbSTtJVAKQz"
      },
      "source": [
        "`ni[i]/len(MISs)` がBoE throughput\n"
      ]
    },
    {
      "cell_type": "code",
      "metadata": {
        "colab": {
          "base_uri": "https://localhost:8080/",
          "height": 327
        },
        "id": "IN4BymX84JDw",
        "outputId": "7e70b751-9631-4e21-d28a-2d861864f37c"
      },
      "source": [
        "plt.axes().set_aspect('equal',adjustable='box')\n",
        "plt.xlim(0, W)\n",
        "plt.ylim(0, W)\n",
        "#plt.xlabel(\"$x$\")\n",
        "#plt.ylabel(\"$y$\")\n",
        "plt.plot(X[:,0], X[:,1], \"o\")\n",
        "for i in range(N):\n",
        "  #plt.axes().annotate(i, (X[i,0]+30, X[i,1]-30))\n",
        "  plt.axes().annotate(ni[i]/len(MISs), (X[i,0]-30, X[i,1]+30) )\n",
        "  for j in range(i+1,N):\n",
        "    if (adjacency_matrix[i,j]==True):\n",
        "      plt.plot([X[i,0], X[j,0]], [X[i,1], X[j,1]], color=\"tab:orange\")"
      ],
      "execution_count": 43,
      "outputs": [
        {
          "output_type": "stream",
          "text": [
            "/usr/local/lib/python3.7/dist-packages/ipykernel_launcher.py:9: MatplotlibDeprecationWarning: Adding an axes using the same arguments as a previous axes currently reuses the earlier instance.  In a future version, a new instance will always be created and returned.  Meanwhile, this warning can be suppressed, and the future behavior ensured, by passing a unique label to each axes instance.\n",
            "  if __name__ == '__main__':\n"
          ],
          "name": "stderr"
        },
        {
          "output_type": "display_data",
          "data": {
            "image/png": "[encoded data removed]",
            "text/plain": [
              "<Figure size 432x288 with 1 Axes>"
            ]
          },
          "metadata": {
            "tags": [],
            "needs_background": "light"
          }
        }
      ]
    },
    {
      "cell_type": "markdown",
      "metadata": {
        "id": "j6IVCD-QzROf"
      },
      "source": [
        "メモ\n",
        "\n",
        "https://stackoverflow.com/questions/29655111/igraph-graph-from-numpy-or-pandas-adjacency-matrix"
      ]
    },
    {
      "cell_type": "code",
      "metadata": {
        "id": "gZJNf_nVAxmZ"
      },
      "source": [
        ""
      ],
      "execution_count": 32,
      "outputs": []
    }
  ]
}