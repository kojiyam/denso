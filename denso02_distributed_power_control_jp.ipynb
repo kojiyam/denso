{
  "nbformat": 4,
  "nbformat_minor": 0,
  "metadata": {
    "colab": {
      "name": "denso02_distributed_power_control_jp.ipynb",
      "provenance": [],
      "collapsed_sections": [],
      "authorship_tag": "ABX9TyPyJH0kQxm7u52HAfTgUE7D",
      "include_colab_link": true
    },
    "kernelspec": {
      "name": "python3",
      "display_name": "Python 3"
    }
  },
  "cells": [
    {
      "cell_type": "markdown",
      "metadata": {
        "id": "view-in-github",
        "colab_type": "text"
      },
      "source": [
        "<a href=\"https://colab.research.google.com/github/kojiyam/denso/blob/master/denso02_distributed_power_control_jp.ipynb\" target=\"_parent\"><img src=\"https://colab.research.google.com/assets/colab-badge.svg\" alt=\"Open In Colab\"/></a>"
      ]
    },
    {
      "cell_type": "markdown",
      "metadata": {
        "id": "erHwthhqtmjg"
      },
      "source": [
        "## Libraries with common settings"
      ]
    },
    {
      "cell_type": "code",
      "metadata": {
        "id": "BSEF6TyUtVxe"
      },
      "source": [
        "import numpy as np\n",
        "np.random.seed(1)\n",
        "from scipy.spatial import distance_matrix\n",
        "import matplotlib.pyplot as plt\n",
        "#plt.style.use('dark_background')  # For dark mode\n",
        "plt.rcParams[\"font.size\"] = 16   # Font size in figures"
      ],
      "execution_count": 1,
      "outputs": []
    },
    {
      "cell_type": "markdown",
      "metadata": {
        "id": "LPZzLdxBuBsO"
      },
      "source": [
        "## Parameters"
      ]
    },
    {
      "cell_type": "code",
      "metadata": {
        "id": "cTczPS4etj8t"
      },
      "source": [
        "N = 4 # Number of Tx-Rx pairs\n",
        "LENGTH = 1000 # (m), LENGTH x LENGTH の正方形．原点中心\n",
        "MAX_DIST = 100 # (m) 各Tx-Rxペアの距離は，DIST\n",
        "LAMBDA = 0.3 # (m) Wave length of carrier\n",
        "SINR_REQ = 4 # Required SINR (in linear scale not dB)． 共通とした\n",
        "NOISE = 10**((-174 + 70 + 10)/10) # (in linear scale) 10 MHz = 70 dBHz, Noise figure 10 dB． 共通とした"
      ],
      "execution_count": 2,
      "outputs": []
    },
    {
      "cell_type": "markdown",
      "metadata": {
        "id": "LMuramWTZGce"
      },
      "source": [
        "## Binomial networks"
      ]
    },
    {
      "cell_type": "code",
      "metadata": {
        "id": "h9aYGYFluMrs"
      },
      "source": [
        "# Random number generation\n",
        "tx = np.random.rand(2*N).reshape(N,2) * LENGTH - LENGTH/2\n",
        "dist = MAX_DIST * np.random.rand(N)\n",
        "theta = 2 * np.pi * np.random.rand(N)\n",
        "rx = tx + np.array([ dist * np.cos(theta), dist * np.sin(theta) ]).T"
      ],
      "execution_count": 3,
      "outputs": []
    },
    {
      "cell_type": "markdown",
      "metadata": {
        "id": "yUKw-WtkWQrQ"
      },
      "source": [
        "$ \\{ \\mathrm{Tx}_j \\}_{j=1,\\dots,n} $ is a binomial point process over $ \\{ (x,y) \\in \\mathbb{R}^2 : \\lvert x \\rvert \\leq \\mathrm{LENGTH}/2 , \\lvert y \\rvert \\leq \\mathrm{LENGTH}/2 \\} $"
      ]
    },
    {
      "cell_type": "code",
      "metadata": {
        "id": "k8BpdwdfvgrT",
        "colab": {
          "base_uri": "https://localhost:8080/",
          "height": 286
        },
        "outputId": "7605a6aa-222d-41e4-a33f-090fe554afd5"
      },
      "source": [
        "# Visibilitization\n",
        "fig, ax = plt.subplots()\n",
        "ax.set_xlim(-LENGTH/2-MAX_DIST,LENGTH/2+MAX_DIST)\n",
        "ax.set_ylim(-LENGTH/2-MAX_DIST,LENGTH/2+MAX_DIST)\n",
        "ax.set_xlabel(\"$x$ (m)\")\n",
        "ax.set_ylabel(\"$y$ (m)\")\n",
        "ax.set_aspect('equal', adjustable='box')\n",
        "plt.plot([tx[:,0], rx[:,0]], [tx[:,1], rx[:,1]], color='black', linewidth=2)\n",
        "plt.scatter(rx[:,0], rx[:,1], label=\"RX\")\n",
        "plt.scatter(tx[:,0], tx[:,1], label=\"TX\")\n",
        "for i in range(N):\n",
        "  ax.annotate(i, (tx[i,0]+30, tx[i,1]-30))\n",
        "#plt.tight_layout()\n",
        "plt.show()"
      ],
      "execution_count": 4,
      "outputs": [
        {
          "output_type": "display_data",
          "data": {
            "image/png": "[encoded data removed]",
            "text/plain": [
              "<Figure size 432x288 with 1 Axes>"
            ]
          },
          "metadata": {
            "tags": [],
            "needs_background": "light"
          }
        }
      ]
    },
    {
      "cell_type": "code",
      "metadata": {
        "id": "PQct8XP37I00"
      },
      "source": [
        "d = distance_matrix(rx, tx)\n",
        "G = np.power(LAMBDA / ( 4 * np.pi * d ), 2)\n",
        "eta = SINR_REQ * NOISE / np.diag(G).reshape(N,1) # 明示的に縦ベクトル（1列の行列）に\n",
        "F = np.zeros((N,N))\n",
        "for i in range(N):\n",
        "  F[i,:] = SINR_REQ * G[i,:] / G[i,i]\n",
        "  F[i,i] = 0"
      ],
      "execution_count": 5,
      "outputs": []
    },
    {
      "cell_type": "markdown",
      "metadata": {
        "id": "CJk9S2av1jw2"
      },
      "source": [
        "$ d_{ij} := | \\mathrm{Rx}_i - \\mathrm{Tx}_j | $\n",
        "\n",
        "$ G_{ij} = ({\\lambda}/{ 4 \\pi d_{ij}})^2 $\n",
        "\n",
        "$ \\eta_i = \\varGamma_i {\\sigma_i}^2 / G_{ii} $\n",
        "\n",
        "$ f_{ij} = (\\varGamma_i G_{ij} / G_{ii} ) \\, \\mathbf{1}( i \\neq j) $\n",
        "\n",
        "\n"
      ]
    },
    {
      "cell_type": "markdown",
      "metadata": {
        "id": "IIQgn0TLcUNX"
      },
      "source": [
        "## Perron-Frobenius eigenvalue (maximum eigenvalue) of $F$"
      ]
    },
    {
      "cell_type": "code",
      "metadata": {
        "id": "Ki9xQFyvHoS5",
        "colab": {
          "base_uri": "https://localhost:8080/"
        },
        "outputId": "2e888fc9-f908-4e26-a28e-6a6decf9cecb"
      },
      "source": [
        "print( np.max( np.linalg.eigvals(F) ) )"
      ],
      "execution_count": 6,
      "outputs": [
        {
          "output_type": "stream",
          "text": [
            "0.6924001236659827\n"
          ],
          "name": "stdout"
        }
      ]
    },
    {
      "cell_type": "markdown",
      "metadata": {
        "id": "yI4ROxfkcQjF"
      },
      "source": [
        "## Optimal transmission power"
      ]
    },
    {
      "cell_type": "code",
      "metadata": {
        "id": "62QHobx888nM"
      },
      "source": [
        "I = np.identity(N)\n",
        "# p_opt = np.linalg.inv(I-F) @ eta\n",
        "p_opt = np.linalg.inv(I-F) @ eta"
      ],
      "execution_count": 7,
      "outputs": []
    },
    {
      "cell_type": "markdown",
      "metadata": {
        "id": "v2FE-Bx93o3M"
      },
      "source": [
        "$ \\boldsymbol{p}^\\star = ( \\boldsymbol{I}- \\boldsymbol{F})^{-1} \\boldsymbol{\\eta} $"
      ]
    },
    {
      "cell_type": "code",
      "metadata": {
        "id": "8_FKBqkFA4zd",
        "colab": {
          "base_uri": "https://localhost:8080/"
        },
        "outputId": "0a4ac8ff-4d94-4b51-fc4f-d9379d634bbc"
      },
      "source": [
        "print(p_opt)"
      ],
      "execution_count": 8,
      "outputs": [
        {
          "output_type": "stream",
          "text": [
            "[[0.00623294]\n",
            " [0.02987429]\n",
            " [0.01281911]\n",
            " [0.04360564]]\n"
          ],
          "name": "stdout"
        }
      ]
    },
    {
      "cell_type": "markdown",
      "metadata": {
        "id": "3XB4HLb3cgWr"
      },
      "source": [
        "## Foschini-Miljanic algorithm"
      ]
    },
    {
      "cell_type": "code",
      "metadata": {
        "id": "WEpXoPRF4Ujv"
      },
      "source": [
        "LOOP = 10\n",
        "p = np.zeros(N*(LOOP+1)).reshape(N, LOOP+1)\n",
        "\n",
        "for k in range(LOOP):\n",
        "  p[:,k+1] = ( F @ p[:,k].reshape(N,1) + eta ).reshape(-1,N)"
      ],
      "execution_count": 9,
      "outputs": []
    },
    {
      "cell_type": "markdown",
      "metadata": {
        "id": "YcbonmySRJNb"
      },
      "source": [
        "$ \\boldsymbol{p}[k+1] = \\boldsymbol{F} \\boldsymbol{p}[k] + \\boldsymbol{\\eta} $"
      ]
    },
    {
      "cell_type": "code",
      "metadata": {
        "id": "la_PTGy4IkZp",
        "colab": {
          "base_uri": "https://localhost:8080/",
          "height": 281
        },
        "outputId": "2bb41379-762d-4bba-911d-bc72915b094d"
      },
      "source": [
        "# Visibilitization\n",
        "x_min = LOOP\n",
        "x_max = LOOP+0.5\n",
        "fig, ax = plt.subplots()\n",
        "plt.xlabel(r\"$k$\")\n",
        "plt.ylabel(r\"$p_i[k]$\")\n",
        "plt.xticks(np.arange(0, 11, 2))\n",
        "for i in range(N):\n",
        "  plt.hlines([p_opt[i]], x_min, x_max, \"white\", linestyle=\"dashed\")\n",
        "  plt.plot(p[i,:], marker='o', label=i)\n",
        "  ax.annotate(i, (x_max, p_opt[i]))\n",
        "#plt.legend()"
      ],
      "execution_count": 10,
      "outputs": [
        {
          "output_type": "display_data",
          "data": {
            "image/png": "[encoded data removed]",
            "text/plain": [
              "<Figure size 432x288 with 1 Axes>"
            ]
          },
          "metadata": {
            "tags": [],
            "needs_background": "light"
          }
        }
      ]
    },
    {
      "cell_type": "markdown",
      "metadata": {
        "id": "1HwdS04bOlNM"
      },
      "source": [
        "## 補足\n",
        "\n",
        "`eta` は明示的に縦ベクトルにする必要はなく，以下のようにしても同じ\n",
        "\n",
        "```\n",
        "eta = SINR_REQ * NOISE / np.diag(G)\n",
        "p_opt = np.linalg.inv(I-F) @ eta\n",
        "```\n",
        "\n"
      ]
    },
    {
      "cell_type": "markdown",
      "metadata": {
        "id": "l8aBgbDrunQo"
      },
      "source": [
        "## 参考\n",
        "\n",
        "2020 Mitsuki Ito, Shunnosuke Kotera, Misaki Udo"
      ]
    }
  ]
}